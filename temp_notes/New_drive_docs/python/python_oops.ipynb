{
 "cells": [
  {
   "cell_type": "markdown",
   "metadata": {},
   "source": [
    "<!-- Headings: # Heading 1, ## Heading 2, etc.\n",
    "Bold: **Bold**, __Bold__\n",
    "Italics: *Italic*, _Italic_\n",
    "Strikethrough: ~~Struckthrough~~\n",
    "Lists: - Item, 1. Item\n",
    "Links: [OpenAI](https://openai.com)\n",
    "Images: ![alt text](URL)\n",
    "Inline Code: `code`\n",
    "Code Block: code block ```\n",
    "Blockquotes: > Blockquote\n",
    "Horizontal Line: ---, ***, ___\n",
    "Tables: | Header | | Data |\n",
    "Math (LaTeX): $formula$ for inline, $$formula$$ for block\n",
    "Escaping Characters: \\#, \\*, \\-\n",
    "Task Lists: - [ ] Task, - [x] Done\n",
    " -->\n",
    "\n"
   ]
  },
  {
   "cell_type": "markdown",
   "metadata": {},
   "source": [
    "1. procedural vs functional vs object oriented programming\n",
    "2. OOPS\n",
    "    - Class\n",
    "    - Object\n",
    "    - Inheritance\n",
    "    - Encapsulation\n",
    "    - Polymorphism\n",
    "        - static polymorphism\n",
    "        - dynamic polymorphism\n",
    "    - Abstraction\n",
    "        - Data Abstraction\n",
    "        - Data Hiding\n",
    "        - Variable/Method Overloading\n",
    "        - Variable/Method/Constructor/Operator Overriding\n",
    "\n",
    "\n",
    "   6. Abstraction\n",
    "   7. Static and Dynamic Polymorphism\n",
    "   8. Data Abstraction\n",
    "   9. Data Hiding\n",
    "   10. Data Encapsulation\n",
    "   11. Data Binding\n"
   ]
  },
  {
   "cell_type": "markdown",
   "metadata": {},
   "source": [
    "### 1. procedural vs functional vs oop"
   ]
  },
  {
   "cell_type": "markdown",
   "metadata": {},
   "source": [
    "### 2.1 Class\n",
    "- class is a blueprint/template for creating objects\n",
    "- class is a user defined data type\n",
    "- class is a collection of attributes/properties/data members and behaviour/methods"
   ]
  },
  {
   "cell_type": "code",
   "execution_count": 2,
   "metadata": {},
   "outputs": [],
   "source": [
    "class ClassName:\n",
    "    # Constructor\n",
    "    def __init__(self, attribute1, attribute2):\n",
    "        self.attribute1 = attribute1\n",
    "        self.attribute2 = attribute2\n",
    "    \n",
    "    # Method\n",
    "    def method_name(self):\n",
    "        pass"
   ]
  },
  {
   "cell_type": "markdown",
   "metadata": {},
   "source": []
  },
  {
   "cell_type": "markdown",
   "metadata": {},
   "source": [
    "### 2.2 Object\n",
    "- object is an instance of a class\n",
    "- object is a real world entity\n",
    "- everything in python is an object"
   ]
  },
  {
   "cell_type": "code",
   "execution_count": 3,
   "metadata": {},
   "outputs": [
    {
     "name": "stdout",
     "output_type": "stream",
     "text": [
      "Car make: Toyota, Model: Corolla\n"
     ]
    }
   ],
   "source": [
    "class Car:\n",
    "    def __init__(self, make, model):\n",
    "        self.make = make\n",
    "        self.model = model\n",
    "\n",
    "    def display_info(self):\n",
    "        print(f\"Car make: {self.make}, Model: {self.model}\")\n",
    "\n",
    "my_car = Car(\"Toyota\", \"Corolla\")\n",
    "my_car.display_info() "
   ]
  },
  {
   "cell_type": "markdown",
   "metadata": {},
   "source": [
    "### Inheritance\n",
    "- Inheritance allows one class (child class) to inherit attributes and methods from another class (parent class), enabling code reuse.\n"
   ]
  },
  {
   "cell_type": "markdown",
   "metadata": {},
   "source": []
  }
 ],
 "metadata": {
  "kernelspec": {
   "display_name": "base",
   "language": "python",
   "name": "python3"
  },
  "language_info": {
   "codemirror_mode": {
    "name": "ipython",
    "version": 3
   },
   "file_extension": ".py",
   "mimetype": "text/x-python",
   "name": "python",
   "nbconvert_exporter": "python",
   "pygments_lexer": "ipython3",
   "version": "3.12.4"
  }
 },
 "nbformat": 4,
 "nbformat_minor": 2
}
