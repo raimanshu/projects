{
 "cells": [
  {
   "cell_type": "markdown",
   "metadata": {},
   "source": [
    "<!-- Headings: # Heading 1, ## Heading 2, etc.\n",
    "Bold: **Bold**, __Bold__\n",
    "Italics: *Italic*, _Italic_\n",
    "Strikethrough: ~~Struckthrough~~\n",
    "Lists: - Item, 1. Item\n",
    "Links: [OpenAI](https://openai.com)\n",
    "Images: ![alt text](URL)\n",
    "Inline Code: `code`\n",
    "Code Block: code block ```\n",
    "Blockquotes: > Blockquote\n",
    "Horizontal Line: ---, ***, ___\n",
    "Tables: | Header | | Data |\n",
    "Math (LaTeX): $formula$ for inline, $$formula$$ for block\n",
    "Escaping Characters: \\#, \\*, \\-\n",
    "Task Lists: - [ ] Task, - [x] Done\n",
    " -->\n",
    "\n"
   ]
  },
  {
   "cell_type": "markdown",
   "metadata": {},
   "source": [
    "\n",
    ".ipnyb file - An IPYNB file (short for IPython Notebook) is a file format used by Jupyter Notebooks. It stands for Interactive Python Notebook, and it is used to store a combination of code, text, and visualizations in an interactive and shareable format.\n",
    "\n",
    "\n",
    "Headings: \n",
    "# Heading 1\n",
    "## Heading 2\n",
    "### Heading 3\n",
    "\n",
    "**Bold text**\n",
    "*Italic text*\n",
    "\n",
    "~~Struckthrough text~~\n",
    "\n",
    "- Item 1\n",
    "- Item 2\n",
    "  - Subitem 1\n",
    "  - Subitem 2\n",
    "\n",
    "\n",
    "1. First item\n",
    "2. Second item\n",
    "   1. Subitem 1\n",
    "   2. Subitem 2\n",
    "\n",
    "[OpenAI](https://openai.com)\n",
    "\n",
    "![Python Logo](https://www.python.org/static/community_logos/python-logo.png)\n",
    "\n",
    "Use the `print()` function to display output.\n",
    "\n",
    "> This is a blockquote.\n",
    "\n",
    "---\n",
    "\n",
    "| Header 1 | Header 2 | Header 3 |\n",
    "|----------|----------|----------|\n",
    "| Row 1    | Data 1   | Data 2   |\n",
    "| Row 2    | Data 3   | Data 4   |\n",
    "\n",
    "The formula for area of a circle is $A = \\pi r^2$.\n",
    "\n",
    "\\# This is a heading symbol, not a heading.\n",
    "\n",
    "- [ ] Task 1\n",
    "- [x] Task 2\n",
    "\n",
    "<div style=\"color: red;\">This is a red text.</div>\n"
   ]
  },
  {
   "cell_type": "markdown",
   "metadata": {},
   "source": []
  }
 ],
 "metadata": {
  "kernelspec": {
   "display_name": "base",
   "language": "python",
   "name": "python3"
  },
  "language_info": {
   "codemirror_mode": {
    "name": "ipython",
    "version": 3
   },
   "file_extension": ".py",
   "mimetype": "text/x-python",
   "name": "python",
   "nbconvert_exporter": "python",
   "pygments_lexer": "ipython3",
   "version": "3.12.4"
  }
 },
 "nbformat": 4,
 "nbformat_minor": 2
}
