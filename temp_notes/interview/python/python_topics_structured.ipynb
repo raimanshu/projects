{
 "cells": [
  {
   "cell_type": "markdown",
   "id": "629b9c5f",
   "metadata": {},
   "source": [
    "# Contents\n",
    "\n",
    "Basic Python Topics\n",
    "- Basic Python Topics\n",
    "    - Introduction to Python \n",
    "    - What is Python?\n",
    "    - Python Installation and Setup\n",
    "    - Python IDEs (Integrated Development Environments)\n",
    "    - Running Python Scripts\n",
    "\n",
    "- Syntax and Structure\n",
    "    - Keywords and Identifiers\n",
    "    - Basic Syntax and Comments\n",
    "    - Indentation\n",
    "    - Statements and Expressions\n",
    "\n",
    "- Data Types \n",
    "    - Integers, Floats, and Complex Numbers\n",
    "    - Strings\n",
    "    - Booleans\n",
    "    - Lists, Tuples, and Sets\n",
    "    - Dictionaries\n",
    "    - Type Conversion\n",
    "\n",
    "-Variables and Constants \n",
    "        Variable Assignment\n",
    "        Constants (conventionally using all caps)\n",
    "\n",
    "- Operators \n",
    "    - Arithmetic Operators\n",
    "    - Comparison Operators\n",
    "    - Logical Operators\n",
    "    - Bitwise Operators\n",
    "    - Assignment Operators\n",
    "    - Membership and Identity Operators\n",
    "\n",
    "- Control Flow \n",
    "    - If, Elif, Else Statements\n",
    "    - Loops : For, While Loops\n",
    "    - Break, Continue, and Pass\n",
    "    - List Comprehensions\n",
    "\n",
    "- Functions \n",
    "    - Function Definitions\n",
    "    - Function Arguments and Return Values\n",
    "    - Lambda Functions\n",
    "    - Recursion\n",
    "\n",
    "- Error Handling \n",
    "    - Try, Except, Else, Finally\n",
    "    - Raising Exceptions\n",
    "    - Custom Exceptions\n",
    "\n",
    "- File Handling \n",
    "    - Reading Files\n",
    "    - Writing to Files\n",
    "    - File Modes (Read, Write, Append)\n",
    "    - Working with Directories\n",
    " \n",
    "- Modules and Packages \n",
    "    - Importing Modules\n",
    "    - Creating Modules and Packages\n",
    "    - Standard Library (e.g., math, os, sys)\n",
    " \n",
    "- Object-Oriented Programming (OOP) - Basics \n",
    "    - Classes and Objects\n",
    "    - Attributes and Methods\n",
    "    - Constructors (__init__)\n",
    "    - Inheritance\n",
    "    - Encapsulation and Abstraction\n",
    " \n",
    "- Python Collections \n",
    "    - Lists\n",
    "    - Tuples\n",
    "    - Dictionaries\n",
    "    - Sets\n",
    "\n",
    "- Iterators and Generators \n",
    "    - Iterators in Python\n",
    "    - Creating Custom Iterators\n",
    "    - Generators and yield keyword\n",
    "\n",
    "Intermediate Python Topics\n",
    "- Advanced Data Structures \n",
    "    - Stacks and Queues\n",
    "    - Linked Lists\n",
    "    - Trees (Binary Tree, Binary Search Tree)\n",
    "    - Graphs\n",
    "    - Heaps\n",
    " \n",
    "- Decorators \n",
    "    - Function Decorators\n",
    "    - Class Decorators\n",
    "    - Use of functools.wraps\n",
    " \n",
    "- File Operations \n",
    "    - File I/O with JSON, CSV, and XML\n",
    "    - Working with Databases (SQLite, MySQL)\n",
    "    - Pickling and Unpickling\n",
    " \n",
    "- Regular Expressions (Regex) \n",
    "    - Basic Regex Syntax\n",
    "    - Matching and Searching Patterns\n",
    "    - Using the re module\n",
    " \n",
    "- Concurrency and Parallelism \n",
    "    - Multithreading\n",
    "    - Multiprocessing\n",
    "    - Asynchronous Programming (using asyncio)\n",
    " \n",
    "- Working with APIs \n",
    "    - Sending HTTP Requests (using requests library)\n",
    "    - Parsing JSON data\n",
    "    - Authentication and Authorization\n",
    " \n",
    "- Unit Testing \n",
    "    - Writing Unit Tests with unittest\n",
    "    - Assertions\n",
    "    - Test-driven development (TDD)\n",
    "    - Mocking\n",
    " \n",
    "- Virtual Environments \n",
    "    - Setting up Virtual Environments (using venv or virtualenv)\n",
    "    - Dependency Management with pip\n",
    "    - Creating requirements.txt\n",
    "\n",
    "- Python Libraries \n",
    "    - NumPy for Numerical Computing\n",
    "    - Pandas for Data Manipulation\n",
    "    - Matplotlib and Seaborn for Data Visualization\n",
    "    - SciPy for Scientific Computation\n",
    "\n",
    "Advanced Python Topics \n",
    "- Advanced Object-Oriented Programming (OOP) \n",
    "    - Multiple Inheritance\n",
    "    - Method Resolution Order (MRO)\n",
    "    - Class and Static Methods\n",
    "    - Descriptors and Metaclasses\n",
    "    - Magic Methods (e.g., __str__, __repr__, __call__, __getitem__)\n",
    " \n",
    "- Design Patterns \n",
    "    - Singleton\n",
    "    - Factory\n",
    "    - Observer\n",
    "    - Strategy\n",
    "    - Command\n",
    "    - Adapter\n",
    " \n",
    "- Functional Programming \n",
    "    - Map, Filter, Reduce\n",
    "    - Higher-order Functions\n",
    "    - Immutable Data Structures\n",
    "    - Closures and Lexical Scoping\n",
    " \n",
    "- Memory Management \n",
    "    - Memory Leaks and Garbage Collection\n",
    "    - Object Referencing and Counting\n",
    "    - gc module (garbage collection)\n",
    "    - Memory Profiling\n",
    " \n",
    "- Advanced Data Structures and Algorithms \n",
    "    - Dynamic Programming\n",
    "    - Sorting Algorithms (Quick Sort, Merge Sort, etc.)\n",
    "    - Searching Algorithms (Binary Search, BFS, DFS)\n",
    "    - Graph Algorithms (Dijkstra's, Floyd-Warshall)\n",
    "    - Hashing Techniques\n",
    " \n",
    "- Asyncio and Asynchronous Programming \n",
    "    - async and await\n",
    "    - Event Loop and Task Scheduling\n",
    "    - Asynchronous I/O\n",
    "    - Coroutines and Futures\n",
    " \n",
    "- Python for Web Development \n",
    "    - Web Frameworks  Flask, Django\n",
    "    - REST APIs with Flask/Django\n",
    "    - Template Engines (e.g., Jinja2)\n",
    "    - WebSocket and Real-Time Communication\n",
    "\n",
    "- Python for Data Science and Machine Learning \n",
    "    - Data Cleaning and Preprocessing\n",
    "    - Supervised vs. Unsupervised Learning\n",
    "    - Scikit-learn for Machine Learning\n",
    "    - TensorFlow and Keras for Deep Learning\n",
    "    - Natural Language Processing (NLP)\n",
    "    - Model Evaluation Metrics\n",
    "\n",
    "- Testing and Debugging \n",
    "    - Debugging with pdb and IDE debuggers\n",
    "    - Advanced Unit Testing (mocking and patching)\n",
    "    - Code Coverage and Profiling\n",
    "    - Continuous Integration/Continuous Deployment (CI/CD)\n",
    " \n",
    "- Python for Automation \n",
    "    - Scripting with Python\n",
    "    - Automation with selenium\n",
    "    - Task Scheduling with schedule and cron\n",
    "\n",
    "- Python in Networking \n",
    "    - Socket Programming\n",
    "    - Building Client-Server Applications\n",
    "    - Working with HTTP(S) Protocol\n",
    "    - DNS and IP address manipulation\n",
    " \n",
    "- Python in Cybersecurity \n",
    "    - Cryptography with Python (pycryptodome, cryptography)\n",
    "    - Penetration Testing with Python\n",
    "    - Creating Network Sniffers and Analyzers\n",
    "    - Python Performance Optimization Topics \n",
    " \n",
    "- Profiling and Benchmarking \n",
    "    - Using cProfile to Profile Code\n",
    "    - Time Complexity Analysis\n",
    "    - Using timeit for Benchmarks\n",
    " \n",
    "- Optimizing Python Code \n",
    "    - Avoiding Global Variables\n",
    "    - Reducing Memory Usage\n",
    "    - Efficient Algorithms and Data Structures\n",
    "    - Using Libraries like NumPy for Efficient Computation\n",
    " \n",
    "- Cython and JIT Compilation \n",
    "    - Using Cython to Speed up Python Code\n",
    "    - Just-In-Time Compilation with PyPy\n"
   ]
  },
  {
   "cell_type": "markdown",
   "id": "11939ebc",
   "metadata": {},
   "source": [
    "# Basic"
   ]
  },
  {
   "cell_type": "markdown",
   "id": "1b2bfda3",
   "metadata": {},
   "source": [
    "## Introduction to Python"
   ]
  },
  {
   "cell_type": "markdown",
   "id": "4607712e",
   "metadata": {},
   "source": [
    "### What is Python?\n",
    "- High-level language: Easy to read and write, close to human language.\n",
    "- Interpreted: Runs line by line, no need to compile.\n",
    "- Dynamically typed: No need to declare variable types (x = 10 is enough).\n",
    "- Multi-purpose: Used for web, data science, automation, AI, and more.\n",
    "- Cross-platform: Works on Windows, macOS, Linux.\n",
    "- Huge community: Lots of libraries, support, and tools.\n",
    "\n",
    "Notes:\n",
    "- Python was created by Guido van Rossum in 1991.\n",
    "- File extension is usually .py.\n",
    "- Python uses indentation (spaces) instead of {} to define blocks (very important).\n",
    "- It follows the philosophy: \"Simple is better than complex.\""
   ]
  },
  {
   "cell_type": "markdown",
   "id": "7510cb2e",
   "metadata": {},
   "source": [
    "##### Python is interpreted or compiled language?\n",
    "🧠 Key Pointers\n",
    "- Python is an interpreted language\n",
    "- Code is executed line by line by the Python interpreter.\n",
    "- But internally, Python does some compiling to bytecode before interpretation.\n",
    "\n",
    "⚙️ How It Works\n",
    "- Your .py code is compiled to bytecode (.pyc files).\n",
    "- Bytecode is run by the Python Virtual Machine (PVM).\n",
    "- This makes Python platform-independent.\n",
    "\n",
    "📌 Important Points to Remember\n",
    "- You don't need to compile Python manually — it's handled by the interpreter.\n",
    "- Python is not a compiled language like C or Java.\n",
    "- Bytecode is not machine code — it still needs interpretation."
   ]
  },
  {
   "cell_type": "markdown",
   "id": "f9a6851a",
   "metadata": {},
   "source": [
    "### Python Installation and Setup\n",
    "- Download Python from the official site: https://python.org\n",
    "- Choose the version (usually latest stable version, e.g., 3.x.x).\n",
    "- Install Python on your system:\n",
    "- Check the box: ✅ \"Add Python to PATH\"\n",
    "- Click \"Install Now\"\n",
    "- Python includes IDLE, a basic code editor.\n",
    "\n",
    "Notes:\n",
    "- Always check ✔️ \"Add to PATH\" during install — avoids command errors.\n",
    "- Use python or python3 depending on your system.\n",
    "\n"
   ]
  },
  {
   "cell_type": "code",
   "execution_count": null,
   "id": "62ee69a3",
   "metadata": {},
   "outputs": [],
   "source": [
    "# Important Commands:\n",
    "python           # Starts Python shell\n",
    "python --version # Shows Python version\n",
    "python file.py   # Runs a script\n",
    "pip install pkg  # Installs a package"
   ]
  },
  {
   "cell_type": "markdown",
   "id": "86e33b13",
   "metadata": {},
   "source": [
    "### Python IDEs (Integrated Development Environments)\n",
    "\n",
    "- VS Code – Popular editor with Python support.\n",
    "- Jupyter Notebook – Great for data science and testing code.\n",
    "- PyCharm – Full-featured Python IDE.\n",
    "- Terminal/Command Prompt – For running Python files."
   ]
  },
  {
   "cell_type": "markdown",
   "id": "44615fd1",
   "metadata": {},
   "source": [
    "### Running Python Scripts\n",
    "- Python scripts are files with .py extension.\n",
    "- You can run them via:\n",
    "    - Command line / terminal\n",
    "    - IDEs like VS Code, PyCharm, or IDLE\n",
    "- Use python filename.py to execute.\n",
    "\n",
    "Notes:\n",
    "- Use python or python3 depending on your system."
   ]
  },
  {
   "cell_type": "code",
   "execution_count": null,
   "id": "38d8d32f",
   "metadata": {},
   "outputs": [],
   "source": [
    "python greet.py"
   ]
  },
  {
   "cell_type": "markdown",
   "id": "4b66cccd",
   "metadata": {},
   "source": [
    "## Syntax and Structure"
   ]
  },
  {
   "cell_type": "markdown",
   "id": "afc8770e",
   "metadata": {},
   "source": [
    "### Keywords and Identifiers\n",
    "🔑 Keywords\n",
    "- Reserved words with special meaning in Python.\n",
    "- Cannot be used as variable names.\n",
    "- Examples: if, else, while, for, def, return, True, False, None, etc.\n",
    "- There are 35+ keywords in Python (can vary by version).\n",
    "\n",
    "🧾 Identifiers\n",
    "- Names used for variables, functions, classes, etc.\n",
    "- Can include: letters (A-Z, a-z), digits (0-9), and underscores ( _ )\n",
    "- Cannot start with a digit.\n",
    "- Case-sensitive: name ≠ Name\n",
    "- Valid identifiers:  my_name, age1, _temp\n",
    "- Invalid identifiers:  1name (starts with number), for (keyword), my-name (contains hyphen)"
   ]
  },
  {
   "cell_type": "code",
   "execution_count": 2,
   "id": "e62c161f",
   "metadata": {},
   "outputs": [
    {
     "name": "stdout",
     "output_type": "stream",
     "text": [
      "['False', 'None', 'True', 'and', 'as', 'assert', 'async', 'await', 'break', 'class', 'continue', 'def', 'del', 'elif', 'else', 'except', 'finally', 'for', 'from', 'global', 'if', 'import', 'in', 'is', 'lambda', 'nonlocal', 'not', 'or', 'pass', 'raise', 'return', 'try', 'while', 'with', 'yield']\n"
     ]
    }
   ],
   "source": [
    "import keyword\n",
    "print(keyword.kwlist)\n"
   ]
  },
  {
   "cell_type": "markdown",
   "id": "3a1142f2",
   "metadata": {},
   "source": [
    "### Basic Syntax and Comments\n",
    "✅ Basic Syntax\n",
    "- Python uses indentation (usually 4 spaces) to define code blocks.\n",
    "- Statements end without semicolons (optional).\n",
    "- Code runs top to bottom.\n",
    "- Use print() to display output.\n",
    "\n",
    "💬 Comments\n",
    "- Used to explain code; ignored by Python.\n",
    "- Single-line: starts with #\n",
    "- Multi-line: use triple quotes ''' or \"\"\""
   ]
  },
  {
   "cell_type": "code",
   "execution_count": null,
   "id": "45d352fa",
   "metadata": {},
   "outputs": [],
   "source": [
    "# This is a single-line comment\n",
    "\n",
    "'''\n",
    "This is a\n",
    "multi-line comment\n",
    "'''"
   ]
  },
  {
   "cell_type": "markdown",
   "id": "a7d5b7a7",
   "metadata": {},
   "source": [
    "### Indentation\n",
    "- Python uses indentation to define blocks of code.\n",
    "- No {} or begin/end—indentation is the structure.\n",
    "- Default indentation: 4 spaces (don't use tabs).\n",
    "- Required in: if, for, while, def, class, etc.\n",
    "- Indentation is not optional."
   ]
  },
  {
   "cell_type": "markdown",
   "id": "7194214d",
   "metadata": {},
   "source": [
    "### Statements and Expressions\n",
    "🧾 Expression\n",
    "- Piece of code that returns a value\n",
    "- Can be part of a statement\n",
    "\n",
    "📄 Statement\n",
    "- Instruction that does something\n",
    "- Can include one or more expressions\n",
    "\n",
    "Notes:\n",
    "- Every expression is part of a statement, but not every statement is an expression."
   ]
  },
  {
   "cell_type": "code",
   "execution_count": null,
   "id": "e2548311",
   "metadata": {},
   "outputs": [],
   "source": [
    "# Expressions\n",
    "2 + 3\n",
    "a * b\n",
    "\"Hello\" + \"World\"\n",
    "\n",
    "# Statements\n",
    "x = 5          # Assignment statement\n",
    "print(x)       # Function call statement\n",
    "if x > 0:      # Conditional statement\n",
    "    print(\"Positive\")\n",
    "else"
   ]
  },
  {
   "cell_type": "markdown",
   "id": "e4b0244a",
   "metadata": {},
   "source": [
    "## Data Types\n",
    "- Built-in Data - - Integers, Floats, and Complex Numbers, Strings, Booleans\n",
    "- Python Collections - Lists, Tuples, Sets, and Dictionaries\n",
    "- User-defined Data Types - Classes\n"
   ]
  },
  {
   "cell_type": "markdown",
   "id": "a035bfb9",
   "metadata": {},
   "source": [
    "### Integers\n",
    "- Integers (int) represent whole numbers (positive, negative, zero).\n",
    "- No limit on size — Python can handle very large integers.\n",
    "- Integers support arithmetic operations: +, -, *, /, // (floor division), % (modulo), ** (power).\n",
    "- Division / always returns a float.\n",
    "- Floor division // returns an integer result (rounds down).\n",
    "- Negative integers work as expected.\n",
    "- No separate type for long integers in Python 3 (unlike Python 2). ⭐\n",
    "- Use int() to convert strings to integers."
   ]
  },
  {
   "cell_type": "code",
   "execution_count": null,
   "id": "f6ee94f8",
   "metadata": {},
   "outputs": [],
   "source": [
    "a = 10\n",
    "b = -3\n",
    "\n",
    "print(a + b)    # 7\n",
    "print(a * b)    # -30\n",
    "print(a / 3)    # 3.3333333333333335 (float)\n",
    "print(a // 3)   # 3 (floor division)\n",
    "print(a % 3)    # 1 (remainder)\n",
    "print(2 ** 4)   # 16 (power)\n",
    "int('3')\n"
   ]
  },
  {
   "cell_type": "markdown",
   "id": "41834f6d",
   "metadata": {},
   "source": [
    "#### Integer Methods"
   ]
  },
  {
   "cell_type": "code",
   "execution_count": null,
   "id": "fa513156",
   "metadata": {},
   "outputs": [],
   "source": [
    "# Define an integer\n",
    "n = 42\n",
    "\n",
    "# ▶️ Type and basic info\n",
    "print(type(n))               # <class 'int'>\n",
    "print(isinstance(n, int))    # True\n",
    "\n",
    "# ▶️ Arithmetic\n",
    "print(n + 5)                 # 47\n",
    "print(n - 2)                 # 40\n",
    "print(n * 2)                 # 84\n",
    "print(n / 5)                 # 8.4\n",
    "print(n // 5)                # 8\n",
    "print(n % 5)                 # 2\n",
    "print(n ** 3)                # 74088\n",
    "\n",
    "# ▶️ Dunder (magic) methods (same as above ops)\n",
    "print(n.__add__(10))         # 52\n",
    "print(n.__sub__(2))          # 40\n",
    "print(n.__mul__(3))          # 126\n",
    "print(n.__floordiv__(8))     # 5\n",
    "print(n.__truediv__(8))      # 5.25\n",
    "print(n.__mod__(5))          # 2\n",
    "print(n.__pow__(2))          # 1764\n",
    "\n",
    "# ▶️ Bitwise Operations\n",
    "print(n & 3)                 # 2\n",
    "print(n | 3)                 # 43\n",
    "print(n ^ 3)                 # 41\n",
    "print(~n)                    # -43 (bitwise NOT)\n",
    "print(n << 1)                # 84 (left shift)\n",
    "print(n >> 1)                # 21 (right shift)\n",
    "\n",
    "# ▶️ Special integer methods\n",
    "print(n.bit_length())        # 6 (number of bits to represent 42)\n",
    "print((-42).bit_length())    # 6 (always positive bits count)\n",
    "\n",
    "print(n.to_bytes(2, byteorder='big'))    # b'\\x00*'\n",
    "print(int.from_bytes(b'\\x00*', 'big'))   # 42\n",
    "\n",
    "print(n.conjugate())         # 42 (used for complex compatibility)\n",
    "print(n.numerator)           # 42\n",
    "print(n.denominator)         # 1\n",
    "print(n.real)                # 42\n",
    "print(n.imag)                # 0\n",
    "\n",
    "# ▶️ Conversions\n",
    "print(float(n))              # 42.0\n",
    "print(complex(n))            # (42+0j)\n",
    "print(str(n))                # \"42\"\n",
    "print(bin(n))                # \"0b101010\"\n",
    "print(oct(n))                # \"0o52\"\n",
    "print(hex(n))                # \"0x2a\"\n",
    "\n",
    "# ▶️ Built-in functions\n",
    "print(abs(-n))               # 42\n",
    "print(pow(n, 2))             # 1764\n",
    "print(divmod(n, 5))          # (8, 2)\n",
    "print(round(42.8))           # 43\n"
   ]
  },
  {
   "cell_type": "markdown",
   "id": "382bec01",
   "metadata": {},
   "source": [
    "### Floats\n",
    "- Floats (float) represent decimal numbers (numbers with fractions).\n",
    "- Used for real numbers like 3.14, -0.001, 2.0.\n",
    "- Supports usual arithmetic operations: +, -, *, /, **.\n",
    "- Stored internally in binary format, can cause tiny precision errors.\n",
    "- Division / between integers results in a float.\n",
    "- Floats have limited precision (about 15 decimal digits).\n",
    "- Use round() to control decimal places.\n",
    "- Use float() to convert strings or integers to float."
   ]
  },
  {
   "cell_type": "code",
   "execution_count": null,
   "id": "7585c1a0",
   "metadata": {},
   "outputs": [],
   "source": [
    "a = 3.5\n",
    "b = 2.0\n",
    "\n",
    "print(a + b)      # 5.5\n",
    "print(a / b)      # 1.75\n",
    "print(a * b)      # 7.0\n",
    "print(a ** 2)     # 12.25\n",
    "\n",
    "# Division resulting in float\n",
    "print(7 / 2)      # 3.5\n",
    "\n",
    "# Rounding\n",
    "print(round(3.14159, 2))   # 3.14\n",
    "\n",
    "# Convert int to float\n",
    "x = float(5)\n",
    "print(x)           # 5.0\n"
   ]
  },
  {
   "cell_type": "markdown",
   "id": "38c83781",
   "metadata": {},
   "source": [
    "#### Float Methods\n",
    "\n",
    "⚠️ Notes\n",
    "- Floats are inexact due to binary representation (e.g., 0.1 + 0.2 != 0.3 exactly).\n",
    "- No indexing or direct float methods like list or str.\n",
    "- Prefer decimal module if you need precise decimals (e.g., for money)."
   ]
  },
  {
   "cell_type": "code",
   "execution_count": null,
   "id": "df09ca64",
   "metadata": {},
   "outputs": [],
   "source": [
    "# Define a float\n",
    "x = 12.75\n",
    "\n",
    "# ▶️ Type check\n",
    "print(type(x))              # <class 'float'>\n",
    "print(isinstance(x, float)) # True\n",
    "\n",
    "# ▶️ Arithmetic operations\n",
    "print(x + 1.25)             # 14.0\n",
    "print(x - 2.75)             # 10.0\n",
    "print(x * 2)                # 25.5\n",
    "print(x / 2)                # 6.375\n",
    "print(x // 2)               # 6.0 (floor division)\n",
    "print(x % 5)                # 2.75\n",
    "print(x ** 2)               # 162.5625\n",
    "\n",
    "# ▶️ Conversions\n",
    "print(int(x))               # 12 (truncates decimal)\n",
    "print(str(x))               # '12.75'\n",
    "print(complex(x))           # (12.75+0j)\n",
    "\n",
    "# ▶️ Built-in functions\n",
    "print(round(x))             # 13 (nearest int)\n",
    "print(round(x, 1))          # 12.8 (1 decimal place)\n",
    "print(abs(-x))              # 12.75\n",
    "print(pow(x, 2))            # 162.5625\n",
    "print(divmod(x, 5))         # (2.0, 2.75)\n",
    "\n",
    "# ▶️ Float-specific methods and attributes\n",
    "print(x.is_integer())       # False (has decimal part)\n",
    "\n",
    "print((13.0).is_integer())  # True (decimal = 0.0)\n",
    "\n",
    "print(x.as_integer_ratio()) # (51, 4) → 12.75 = 51/4\n",
    "print(x.hex())              # Float to hexadecimal: '0x1.98p+3'\n",
    "\n",
    "print(float.fromhex('0x1.98p+3'))  # 12.75 (hex → float)\n",
    "\n",
    "# ▶️ Boolean check\n",
    "print(bool(0.0))            # False\n",
    "print(bool(x))              # True\n"
   ]
  },
  {
   "cell_type": "markdown",
   "id": "7d84bc81",
   "metadata": {},
   "source": [
    "### Complex Numbers\n",
    "- Complex numbers have real and imaginary parts.\n",
    "- Written as: a + bj where a is real, b is imaginary.\n",
    "- Python's built-in complex type supports complex numbers.\n",
    "- Imaginary unit is denoted by j or J (not i).\n",
    "- You can create complex numbers using:\n",
    "    - Literal: 3 + 4j\n",
    "    - Constructor: complex(3, 4)\n",
    "- Supports arithmetic: +, -, *, /.\n",
    "- Access real and imaginary parts with .real and .imag.\n",
    "- DONOT use i instead of j for imaginary unit. 🚫"
   ]
  },
  {
   "cell_type": "code",
   "execution_count": null,
   "id": "3169281a",
   "metadata": {},
   "outputs": [],
   "source": [
    "# Creating complex numbers\n",
    "z1 = 3 + 4j\n",
    "z2 = complex(1, 2)\n",
    "\n",
    "# Arithmetic operations\n",
    "print(z1 + z2)   # (4+6j)\n",
    "print(z1 * z2)   # (-5+10j)\n",
    "\n",
    "# Access real and imaginary parts\n",
    "print(z1.real)   # 3.0\n",
    "print(z1.imag)   # 4.0\n"
   ]
  },
  {
   "cell_type": "markdown",
   "id": "b5ec25a6",
   "metadata": {},
   "source": [
    "#### Complex Number Methods\n",
    "\n",
    "🔎 Notes\n",
    "- complex supports only basic math operations and conversion methods.\n",
    "- No .bit_length(), .is_integer(), or .hex() like int or float.\n",
    "- Use cmath module for advanced complex math: square roots, trig, logs, etc."
   ]
  },
  {
   "cell_type": "code",
   "execution_count": null,
   "id": "d4dea321",
   "metadata": {},
   "outputs": [],
   "source": [
    "# Define complex number\n",
    "z = 3 + 4j\n",
    "\n",
    "# ▶️ Type and conversion\n",
    "print(type(z))              # <class 'complex'>\n",
    "print(complex(5))           # (5+0j)\n",
    "print(complex(2, -3))       # (2-3j)\n",
    "print(complex(\"1+2j\"))      # (1+2j)\n",
    "\n",
    "# ▶️ Attributes\n",
    "print(z.real)               # 3.0\n",
    "print(z.imag)               # 4.0\n",
    "\n",
    "# ▶️ Methods\n",
    "print(z.conjugate())        # (3 - 4j)\n",
    "print(abs(z))               # 5.0 → magnitude: √(3² + 4²)\n",
    "\n",
    "# ▶️ Arithmetic\n",
    "print(z + (1 + 2j))         # (4+6j)\n",
    "print(z - (2 + 1j))         # (1+3j)\n",
    "print(z * (2 + 0j))         # (6+8j)\n",
    "print(z / (1 - 1j))         # (-0.5+3.5j)\n",
    "\n",
    "# ▶️ Dunder (magic) methods\n",
    "print(z.__add__(1 + 1j))    # (4+5j)\n",
    "print(z.__sub__(1j))        # (3+3j)\n",
    "print(z.__mul__(2))         # (6+8j)\n",
    "print(z.__truediv__(2))     # (1.5+2j)\n",
    "print(z.__abs__())          # 5.0\n",
    "print(z.__neg__())          # (-3-4j)\n",
    "print(z.__pos__())          # (3+4j)\n",
    "print(z.__eq__(3 + 4j))     # True\n",
    "\n",
    "# ▶️ Polar form (via cmath)\n",
    "import cmath\n",
    "polar = cmath.polar(z)      # (r, θ)\n",
    "print(\"Polar:\", polar)      # (5.0, 0.927...)\n",
    "\n",
    "rect = cmath.rect(*polar)\n",
    "print(\"Rectangular:\", rect) # (3+4j)\n"
   ]
  },
  {
   "cell_type": "markdown",
   "id": "cfb3ba89",
   "metadata": {},
   "source": [
    "### Strings\n",
    "- Strings represent text and are enclosed in quotes:\n",
    "    - Single '...'\n",
    "    - Double \"...\"\n",
    "    - Triple '''...''' or \"\"\"...\"\"\" (for multi-line)\n",
    "- Strings are immutable (cannot be changed after creation).\n",
    "- Supports operations like concatenation (+), repetition (*), and indexing.\n",
    "- Use \\ to escape special characters, e.g. \\', \\\", \\\\, \\n (newline).\n",
    "- Use raw strings with prefix r to ignore escapes: r\"\\n\" prints \\n.\n",
    "- Strings can be indexed and sliced:\n",
    "    - s[0] first character\n",
    "    - s[-1] last character\n",
    "    - s[1:4] slice from index 1 to 3\n",
    "- DONOT try to modify string characters directly (strings are immutable) 🚫"
   ]
  },
  {
   "cell_type": "code",
   "execution_count": null,
   "id": "20690735",
   "metadata": {},
   "outputs": [],
   "source": [
    "# Creating strings\n",
    "name = \"Alice\"\n",
    "greeting = 'Hello'\n",
    "\n",
    "# Concatenation\n",
    "message = greeting + \", \" + name + \"!\"\n",
    "print(message)  # Hello, Alice!\n",
    "\n",
    "# Repetition\n",
    "print(\"Ha\" * 3)  # HaHaHa\n",
    "\n",
    "# Indexing and slicing\n",
    "print(name[0])   # A\n",
    "print(name[-1])  # e\n",
    "print(name[1:4]) # lic\n",
    "\n",
    "# Escape characters\n",
    "print(\"Line1\\nLine2\")  # New line\n",
    "print(r\"Line1\\nLine2\") # Raw string, prints \\n literally\n",
    "\n",
    "\n",
    "s = \"hello\"\n",
    "s[0] = \"H\"   # Error!\n"
   ]
  },
  {
   "cell_type": "markdown",
   "id": "71f020f8",
   "metadata": {},
   "source": [
    "#### String Methods\n",
    "\n",
    "🧠 Notes\n",
    "- Strings are immutable – all methods return a new string.\n",
    "- str() can convert almost any object to string.\n",
    "- Use re module for advanced pattern matching."
   ]
  },
  {
   "cell_type": "code",
   "execution_count": null,
   "id": "499cf43c",
   "metadata": {},
   "outputs": [],
   "source": [
    "# 🔤 Case Conversion\n",
    "s = \"hello world\"\n",
    "print(s.upper())        # 'HELLO WORLD'\n",
    "print(s.lower())        # 'hello world'\n",
    "print(s.capitalize())   # 'Hello world'\n",
    "print(s.title())        # 'Hello World'\n",
    "print(s.swapcase())     # 'HELLO WORLD' -> 'hello world'\n",
    "print(\"Straße\".casefold())  # 'strasse'\n",
    "\n",
    "# 🧹 Trim / Strip Whitespace\n",
    "s = \"  hello  \"\n",
    "print(s.strip())        # 'hello'\n",
    "print(s.lstrip())       # 'hello  '\n",
    "print(s.rstrip())       # '  hello'\n",
    "\n",
    "# 🔍 Search & Find\n",
    "s = \"hello world\"\n",
    "print(s.find(\"o\"))      # 4\n",
    "print(s.rfind(\"o\"))     # 7\n",
    "print(s.index(\"o\"))     # 4\n",
    "print(s.rindex(\"o\"))    # 7\n",
    "print(s.startswith(\"he\"))  # True\n",
    "print(s.endswith(\"ld\"))    # True\n",
    "\n",
    "# 🔁 Replace & Modify\n",
    "s = \"hello world\"\n",
    "print(s.replace(\"l\", \"L\"))      # 'heLLo worLd'\n",
    "print(s.replace(\"l\", \"\", 1))    # 'helo world'\n",
    "print(s.translate(str.maketrans(\"hel\", \"xyz\")))  # 'xyzzo worzd'\n",
    "\n",
    "# 📐 Align / Padding\n",
    "s = \"cat\"\n",
    "print(s.center(10, '-'))    # '--cat-----'\n",
    "print(s.ljust(10, '_'))     # 'cat_______'\n",
    "print(s.rjust(10, '*'))     # '*******cat'\n",
    "print(\"42\".zfill(5))        # '00042'\n",
    "\n",
    "# ✂️ Split & Join\n",
    "s = \"a,b,c\"\n",
    "print(s.split(\",\"))         # ['a', 'b', 'c']\n",
    "print(s.rsplit(\",\", 1))     # ['a,b', 'c']\n",
    "print(\" line1\\nline2 \".splitlines())  # [' line1', 'line2 ']\n",
    "print(\" \".join(['hello', 'world']))   # 'hello world'\n",
    "\n",
    "# ✅ Check Types / Content\n",
    "s = \"Hello123\"\n",
    "print(s.isalpha())          # False\n",
    "print(\"Hello\".isalpha())    # True\n",
    "print(s.isdigit())          # False\n",
    "print(\"123\".isdigit())      # True\n",
    "print(s.isalnum())          # True\n",
    "print(\"hello\".islower())    # True\n",
    "print(\"HELLO\".isupper())    # True\n",
    "print(\"  \".isspace())       # True\n",
    "print(\"Title Case\".istitle())  # True\n",
    "\n",
    "# 🧱 Encoding / Expanding\n",
    "s = \"hello\"\n",
    "print(s.encode())           # b'hello'\n",
    "print(\"line1\\tline2\".expandtabs(4))  # 'line1   line2'\n",
    "\n",
    "# 🔡 Format Strings\n",
    "name = \"John\"\n",
    "print(\"Hello, {}\".format(name))   # 'Hello, John'\n",
    "print(f\"Hello, {name}\")           # f-string: 'Hello, John'\n",
    "print(\"{:>10}\".format(\"cat\"))     # '       cat'\n",
    "\n",
    "# 🧠 Other Useful Tricks\n",
    "print(str(123))             # '123'\n",
    "print(repr(\"hello\\n\"))      # \"'hello\\\\n'\"\n"
   ]
  },
  {
   "cell_type": "markdown",
   "id": "ce255cb0",
   "metadata": {},
   "source": [
    "### Booleans\n",
    "- Booleans represent True or False values.\n",
    "- Type: bool\n",
    "- Used in conditions, comparisons, and logical operations.\n",
    "- Only two values: True and False (note: capitalized).\n",
    "- Boolean values are actually subtypes of integers.\n",
    "- Common in: if statements, loops, comparisons (==, !=, >, <, etc.)\n",
    "Falsy values in Python (evaluate to False): 0, 0.0, \"\" (empty string), [], {}, set() (empty collections), None, False\n",
    "\n",
    "🚫 Common Mistakes\n",
    "- Writing true or false (❌ lowercase → use True, False)\n",
    "- Confusing = (assignment) with == (comparison)"
   ]
  },
  {
   "cell_type": "code",
   "execution_count": null,
   "id": "67bec5bf",
   "metadata": {},
   "outputs": [
    {
     "data": {
      "text/plain": [
       "0"
      ]
     },
     "execution_count": 4,
     "metadata": {},
     "output_type": "execute_result"
    }
   ],
   "source": [
    "\n",
    "# Boolean values are actually subtypes of integers.\n",
    "int(True)  # 1\n",
    "int(False) # 0\n",
    "\n",
    "# Operations\n",
    "# Boolean values\n",
    "is_raining = True\n",
    "is_sunny = False\n",
    "\n",
    "# Using in condition\n",
    "if is_raining:\n",
    "    print(\"Take an umbrella\")\n",
    "else:\n",
    "    print(\"No need for umbrella\")\n",
    "\n",
    "# Comparison returns boolean\n",
    "x = 10\n",
    "print(x > 5)    # True\n",
    "print(x == 3)   # False\n",
    "\n",
    "# Boolean from other values\n",
    "print(bool(\"\"))     # False\n",
    "print(bool(\"Hi\"))   # True\n",
    "print(bool(0))      # False\n",
    "print(bool(42))     # True\n"
   ]
  },
  {
   "cell_type": "markdown",
   "id": "ad9923cf",
   "metadata": {},
   "source": [
    "#### Boolean Methods"
   ]
  },
  {
   "cell_type": "code",
   "execution_count": null,
   "id": "15ec7e25",
   "metadata": {},
   "outputs": [],
   "source": [
    "# Values\n",
    "a = True\n",
    "b = False\n",
    "\n",
    "# Basic methods inherited from int\n",
    "print(a.bit_length())       # 1 → (True is 1)\n",
    "print(b.bit_length())       # 0 → (False is 0)\n",
    "\n",
    "print(a.to_bytes(1, 'big')) # b'\\x01'\n",
    "print(b.to_bytes(1, 'big')) # b'\\x00'\n",
    "\n",
    "print(a.__add__(5))         # 6 → (True is 1)\n",
    "print(b.__mul__(10))        # 0\n",
    "\n",
    "# Logical operators (not methods, but essential)\n",
    "print(a and b)              # False\n",
    "print(a or b)               # True\n",
    "print(not a)                # False\n",
    "\n",
    "# Convert from other types\n",
    "print(bool(0))              # False\n",
    "print(bool(1))              # True\n",
    "print(bool(\"\"))             # False\n",
    "print(bool(\"Hello\"))        # True\n",
    "print(bool([]))             # False\n",
    "print(bool([1, 2]))         # True\n"
   ]
  },
  {
   "cell_type": "markdown",
   "id": "f2cd2364",
   "metadata": {},
   "source": [
    "### Python Collections\n",
    "\n",
    "| **Aspect**                  | **List**                         | **Tuple**                         | **Set**                             | **Dictionary**                           |\n",
    "| --------------------------- | -------------------------------- | --------------------------------- | ----------------------------------- | ---------------------------------------- |\n",
    "| **Class Name (`type`)**     | `list`                           | `tuple`                           | `set`                               | `dict`                                   |\n",
    "| **Definition**              | Ordered, mutable collection      | Ordered, immutable collection     | Unordered, mutable, unique items    | Key-value pair mapping                   |\n",
    "| **Syntax (Creation)**       | `[]` or `list()`                 | `()` or `tuple()`                 | `{}` or `set()` (⚠️ `{}` = dict)    | `{key: value}` or `dict()`               |\n",
    "| **Example**                 | `[\"a\", \"b\", \"c\"]`                | `(\"a\", \"b\", \"c\")`                 | `{\"a\", \"b\", \"c\"}`                   | `{\"a\": 1, \"b\": 2}`                       |\n",
    "| **Ordered?**                | ✅ Yes                            | ✅ Yes                             | ❌ No                                | ✅ Yes (Python 3.7+)                      |\n",
    "| **Mutable?**                | ✅ Yes                            | ❌ No                              | ✅ Yes                               | ✅ Yes                                    |\n",
    "| **Allows Duplicates?**      | ✅ Yes                            | ✅ Yes                             | ❌ No                                | ❌ Keys: No, Values: Yes                  |\n",
    "| **Indexing/Slicing**        | ✅ Yes                            | ✅ Yes                             | ❌ No                                | ✅ By key, not index                      |\n",
    "| **Nested Allowed?**         | ✅ Yes                            | ✅ Yes                             | ✅ Rare                              | ✅ Yes                                    |\n",
    "| **Use Case / Application**  | Ordered modifiable data          | Read-only sequences               | Unique collection, fast lookup      | Fast key-based access, mapping structure |\n",
    "| **Add Item**                | `.append()`, `.insert()`         | ❌ Not allowed                     | `.add()`                            | `dict[key] = value`                      |\n",
    "| **Remove Item**             | `.remove()`, `.pop()`            | ❌ Not allowed                     | `.remove()`, `.discard()`, `.pop()` | `del`, `.pop()`, `.popitem()`            |\n",
    "| **Convert to List**         | —                                | `list(tuple)`                     | `list(set)`                         | `list(dict)` → list of keys              |\n",
    "| **Convert to Tuple**        | `tuple(list)`                    | —                                 | `tuple(set)`                        | `tuple(dict)` → tuple of keys            |\n",
    "| **Convert to Set**          | `set(list)`                      | `set(tuple)`                      | —                                   | `set(dict)` → set of keys                |\n",
    "| **Convert to Dict**         | `dict([(k,v)])`                  | `dict(((k,v),))`                  | ❌ Only from `(k,v)` pairs           | —                                        |\n",
    "| **Common Methods**          | `.append()`, `.pop()`, `.sort()` | `.count()`, `.index()`            | `.add()`, `.remove()`, `.union()`   | `.keys()`, `.values()`, `.items()`       |\n",
    "| **Supports Comprehension?** | ✅ Yes                            | ✅ (via list comprehension + cast) | ✅ Yes                               | ✅ Yes                                    |\n",
    "| **Duplicates Handling**     | Keeps all                        | Keeps all                         | Automatically removed               | Key overwritten if duplicated            |\n",
    "\n"
   ]
  },
  {
   "cell_type": "markdown",
   "id": "87cbab4b",
   "metadata": {},
   "source": [
    "#### List"
   ]
  },
  {
   "cell_type": "code",
   "execution_count": null,
   "id": "81232430",
   "metadata": {},
   "outputs": [],
   "source": [
    "# Create a list\n",
    "fruits = [\"apple\", \"banana\", \"cherry\", \"banana\"]\n",
    "\n",
    "# ▶️ Length\n",
    "print(len(fruits))                # 4\n",
    "\n",
    "# ▶️ Access & Indexing\n",
    "print(fruits[0])                  # 'apple'\n",
    "print(fruits[-1])                 # 'banana' (last item)\n",
    "\n",
    "# ▶️ Slicing Examples\n",
    "print(fruits[1:3])                # ['banana', 'cherry'] (start to end-1)\n",
    "print(fruits[:2])                 # ['apple', 'banana'] (start from 0)\n",
    "print(fruits[2:])                 # ['cherry', 'banana'] (till end)\n",
    "print(fruits[::2])                # ['apple', 'cherry'] (every 2nd item)\n",
    "print(fruits[::-1])               # ['banana', 'cherry', 'banana', 'apple'] (reversed)\n",
    "\n",
    "# ▶️ Add Items\n",
    "fruits.append(\"orange\")           # Add at end\n",
    "fruits.insert(1, \"grape\")         # Insert at index 1\n",
    "fruits.insert(0, \"kiwi\")          # ✅ Insert at front\n",
    "print(fruits)                     # ['kiwi', 'apple', 'grape', 'banana', 'cherry', 'banana', 'orange']\n",
    "\n",
    "# ▶️ Remove Items\n",
    "fruits.remove(\"banana\")           # Removes first 'banana'\n",
    "front_item = fruits.pop(0)        # ✅ Remove from front\n",
    "print(front_item)                 # 'kiwi'\n",
    "\n",
    "# ▶️ Delete by index\n",
    "del fruits[0]                     # Deletes 'apple'\n",
    "\n",
    "# ▶️ Clear list\n",
    "# fruits.clear()                 # Uncomment to empty list\n",
    "\n",
    "# ▶️ Other Operations\n",
    "print(fruits.index(\"banana\"))     # Find index\n",
    "print(fruits.count(\"banana\"))     # Count occurrences\n",
    "\n",
    "fruits.reverse()                  # Reverse list\n",
    "fruits.sort()                     # Sort list\n",
    "copy_fruits = fruits.copy()       # Copy list\n",
    "\n",
    "fruits.extend([\"kiwi\", \"mango\"])  # Add multiple items\n",
    "print(fruits)\n"
   ]
  },
  {
   "cell_type": "markdown",
   "id": "8b48d036",
   "metadata": {},
   "source": [
    "#### Tuple"
   ]
  },
  {
   "cell_type": "code",
   "execution_count": null,
   "id": "45e2111f",
   "metadata": {},
   "outputs": [],
   "source": [
    "# Create a tuple\n",
    "colors = (\"red\", \"green\", \"blue\", \"green\")\n",
    "\n",
    "# ▶️ Type check\n",
    "print(type(colors))           # <class 'tuple'>\n",
    "\n",
    "# ▶️ Access by index\n",
    "print(colors[0])              # red\n",
    "print(colors[-1])             # green (last)\n",
    "\n",
    "# ▶️ Slicing\n",
    "print(colors[1:3])            # ('green', 'blue')\n",
    "print(colors[:2])             # ('red', 'green')\n",
    "print(colors[::-1])           # ('green', 'blue', 'green', 'red')\n",
    "\n",
    "# ▶️ Count and Index\n",
    "print(colors.count(\"green\"))  # 2\n",
    "print(colors.index(\"blue\"))   # 2 (first occurrence)\n",
    "\n",
    "# ▶️ Length\n",
    "print(len(colors))            # 4\n",
    "\n",
    "# ▶️ Tuple with one item (⚠️)\n",
    "single = (\"only_one\",)\n",
    "print(type(single))           # <class 'tuple'>\n",
    "\n",
    "# ▶️ Tuple unpacking\n",
    "r, g, b, g2 = colors\n",
    "print(r, g, b, g2)            # red green blue green\n",
    "\n",
    "# ▶️ Nested tuple\n",
    "nested = (1, 2, (3, 4))\n",
    "print(nested[2][1])           # 4\n",
    "\n",
    "# ▶️ Immutable nature (will raise error)\n",
    "# colors[0] = \"yellow\"        # ❌ TypeError: 'tuple' object does not support item assignment\n"
   ]
  },
  {
   "cell_type": "markdown",
   "id": "b5cf2236",
   "metadata": {},
   "source": [
    "#### Set"
   ]
  },
  {
   "cell_type": "code",
   "execution_count": null,
   "id": "4ecb91de",
   "metadata": {},
   "outputs": [],
   "source": [
    "# Create a set\n",
    "fruits = {\"apple\", \"banana\", \"cherry\", \"banana\"}  # duplicate 'banana' ignored\n",
    "\n",
    "print(fruits)                   # {'cherry', 'apple', 'banana'} (unordered, unique)\n",
    "\n",
    "# ▶️ Type check\n",
    "print(type(fruits))             # <class 'set'>\n",
    "\n",
    "# ▶️ Add items\n",
    "fruits.add(\"orange\")\n",
    "print(fruits)\n",
    "\n",
    "# ▶️ Remove items\n",
    "fruits.remove(\"banana\")         # Raises KeyError if not found\n",
    "fruits.discard(\"kiwi\")          # Does NOT raise error if not found\n",
    "print(fruits)\n",
    "\n",
    "# ▶️ Check membership\n",
    "print(\"apple\" in fruits)        # True\n",
    "print(\"kiwi\" in fruits)         # False\n",
    "\n",
    "# ▶️ Set operations\n",
    "A = {1, 2, 3, 4}\n",
    "B = {3, 4, 5, 6}\n",
    "\n",
    "print(A.union(B))               # {1, 2, 3, 4, 5, 6}\n",
    "print(A.intersection(B))        # {3, 4}\n",
    "print(A.difference(B))          # {1, 2}\n",
    "print(A.symmetric_difference(B)) # {1, 2, 5, 6}\n",
    "\n",
    "# ▶️ Length\n",
    "print(len(fruits))\n",
    "\n",
    "# ▶️ Clear set\n",
    "# fruits.clear()               # Uncomment to empty set\n"
   ]
  },
  {
   "cell_type": "markdown",
   "id": "3681c637",
   "metadata": {},
   "source": [
    "#### Dictionary"
   ]
  },
  {
   "cell_type": "code",
   "execution_count": null,
   "id": "1b023fb6",
   "metadata": {},
   "outputs": [],
   "source": [
    "# Create a dictionary\n",
    "person = {\n",
    "    \"name\": \"Alice\",\n",
    "    \"age\": 30,\n",
    "    \"city\": \"New York\",\n",
    "    \"hobbies\": [\"reading\", \"hiking\"]\n",
    "}\n",
    "\n",
    "# ▶️ Access values by key\n",
    "print(person[\"name\"])          # Alice\n",
    "print(person.get(\"age\"))       # 30\n",
    "print(person.get(\"salary\", \"N/A\"))  # N/A (default if key not found)\n",
    "\n",
    "# ▶️ Add or update key-value pair\n",
    "person[\"email\"] = \"alice@example.com\"\n",
    "person[\"age\"] = 31             # update existing key\n",
    "\n",
    "# ▶️ Remove items\n",
    "del person[\"city\"]\n",
    "removed = person.pop(\"hobbies\")\n",
    "print(removed)                 # ['reading', 'hiking']\n",
    "\n",
    "# ▶️ Check keys\n",
    "print(\"name\" in person)        # True\n",
    "print(\"city\" in person)        # False\n",
    "\n",
    "# ▶️ Get keys, values, items\n",
    "print(person.keys())           # dict_keys(['name', 'age', 'email'])\n",
    "print(person.values())         # dict_values(['Alice', 31, 'alice@example.com'])\n",
    "print(person.items())          # dict_items([('name', 'Alice'), ('age', 31), ('email', 'alice@example.com')])\n",
    "\n",
    "# ▶️ Loop through dictionary\n",
    "for key, value in person.items():\n",
    "    print(f\"{key}: {value}\")\n",
    "\n",
    "# ▶️ Clear dictionary\n",
    "# person.clear()              # Uncomment to empty dictionary\n",
    "\n",
    "# ▶️ Copy dictionary\n",
    "person_copy = person.copy()\n",
    "print(person_copy)\n"
   ]
  },
  {
   "cell_type": "markdown",
   "id": "8311d878",
   "metadata": {},
   "source": [
    "### Type Conversion\n",
    "- converting one data type to another\n",
    "\n",
    "⚠️ Important Notes\n",
    "- String to number: must be valid numeric format else ValueError.\n",
    "- Set and dict: conversion possible only if data format matches (e.g., dict needs key-value pairs).\n",
    "- Bool: 0, empty collections, None → False; others → True."
   ]
  },
  {
   "cell_type": "code",
   "execution_count": null,
   "id": "bb0b0aa0",
   "metadata": {},
   "outputs": [],
   "source": [
    "# Numeric conversions\n",
    "x = 10                # int\n",
    "y = 3.14              # float\n",
    "z = 2 + 3j            # complex\n",
    "\n",
    "print(float(x))       # int → float: 10.0\n",
    "print(int(y))         # float → int (truncates): 3\n",
    "print(complex(x))     # int → complex: (10+0j)\n",
    "print(complex(y))     # float → complex: (3.14+0j)\n",
    "\n",
    "# String conversions\n",
    "a = 123\n",
    "b = 45.67\n",
    "c = 8 + 4j\n",
    "\n",
    "print(str(a))         # int → str: '123'\n",
    "print(str(b))         # float → str: '45.67'\n",
    "print(str(c))         # complex → str: '(8+4j)'\n",
    "\n",
    "s = \"100\"\n",
    "print(int(s))         # str → int: 100 (if valid integer string)\n",
    "print(float(s))       # str → float: 100.0\n",
    "\n",
    "s_float = \"56.78\"\n",
    "print(float(s_float)) # str → float: 56.78\n",
    "\n",
    "# List, Tuple, Set conversions\n",
    "lst = [1, 2, 3, 4]\n",
    "tpl = (5, 6, 7)\n",
    "st = {8, 9, 10}\n",
    "\n",
    "print(tuple(lst))     # list → tuple: (1, 2, 3, 4)\n",
    "print(list(tpl))      # tuple → list: [5, 6, 7]\n",
    "print(set(lst))       # list → set: {1, 2, 3, 4}\n",
    "print(list(st))       # set → list: [8, 9, 10] (order not guaranteed)\n",
    "print(set(tpl))       # tuple → set: {5, 6, 7}\n",
    "print(tuple(st))      # set → tuple: (8, 9, 10)\n",
    "\n",
    "# Dict conversions\n",
    "pairs = [(\"a\", 1), (\"b\", 2), (\"c\", 3)]\n",
    "print(dict(pairs))    # list of pairs → dict: {'a': 1, 'b': 2, 'c': 3}\n",
    "\n",
    "# dict keys and values conversions\n",
    "d = {'x': 10, 'y': 20}\n",
    "print(list(d))        # dict → list of keys: ['x', 'y']\n",
    "print(list(d.keys())) # same as above\n",
    "print(list(d.values())) # list of values: [10, 20]\n",
    "print(list(d.items()))  # list of (key, value) tuples: [('x', 10), ('y', 20)]\n",
    "\n",
    "# Bool conversions\n",
    "print(bool(0))        # False\n",
    "print(bool(123))      # True\n",
    "print(bool([]))       # False (empty list)\n",
    "print(bool([1, 2]))   # True (non-empty list)\n",
    "print(bool(\"\"))       # False (empty string)\n",
    "print(bool(\"Hello\"))  # True (non-empty string)\n"
   ]
  },
  {
   "cell_type": "markdown",
   "id": "40a556f5",
   "metadata": {},
   "source": [
    "## Variables and Constants"
   ]
  },
  {
   "cell_type": "markdown",
   "id": "27ded090",
   "metadata": {},
   "source": [
    "- Variable Assignment\n",
    "- Constants (conventionally using all caps)"
   ]
  },
  {
   "cell_type": "markdown",
   "id": "ceefc972",
   "metadata": {},
   "source": [
    "### Variables\n",
    "- Python variables are dynamic, case-sensitive, and reference objects.\n",
    "- Use type() to inspect type, id() to see object memory address.\n",
    "- Follow naming conventions: lowercase with underscores, ALL_CAPS for constants.\n",
    "- Avoid using keywords and starting names with digits."
   ]
  },
  {
   "cell_type": "code",
   "execution_count": null,
   "id": "c8be900f",
   "metadata": {},
   "outputs": [],
   "source": [
    "# ✅ Basic Variable Assignment\n",
    "name = \"Alice\"\n",
    "age = 25\n",
    "_height = 5.7\n",
    "is_active = True\n",
    "\n",
    "print(name, age, _height, is_active)\n",
    "\n",
    "# ❌ Invalid Variable Names (will raise SyntaxError if uncommented)\n",
    "# 1name = \"Bob\"\n",
    "# class = \"A\"\n",
    "\n",
    "# ✅ Dynamic Typing Example\n",
    "x = 10\n",
    "print(x, type(x))    # 10 <class 'int'>\n",
    "x = \"hello\"\n",
    "print(x, type(x))    # hello <class 'str'>\n",
    "\n",
    "# ✅ Multiple Assignment\n",
    "a, b = 5, 10\n",
    "print(\"a:\", a, \"b:\", b)\n",
    "\n",
    "x = y = z = 0\n",
    "print(\"x:\", x, \"y:\", y, \"z:\", z)\n",
    "\n",
    "# ✅ Type Checking\n",
    "print(type(name))     # <class 'str'>\n",
    "print(type(age))      # <class 'int'>\n",
    "print(type(_height))  # <class 'float'>\n",
    "print(type(is_active))# <class 'bool'>\n",
    "\n",
    "# ✅ Python Variable Memory Behavior (Object References)\n",
    "a = [1, 2]\n",
    "b = a                # b points to same list as a\n",
    "b.append(3)\n",
    "print(\"a:\", a)       # a: [1, 2, 3]\n",
    "print(\"b:\", b)       # b: [1, 2, 3]\n",
    "print(id(a), id(b))  # same id → same object\n",
    "\n",
    "# ✅ Type Hints (Optional, not enforced at runtime)\n",
    "user_name: str = \"Bob\"\n",
    "user_age: int = 30\n",
    "print(user_name, user_age)\n",
    "\n",
    "# ✅ Use of type() and id()\n",
    "value = 99.9\n",
    "print(\"Type of value:\", type(value))  # <class 'float'>\n",
    "print(\"Memory address of value:\", id(value))\n",
    "\n",
    "# ✅ Good Naming Practices\n",
    "user_email = \"user@example.com\"  # descriptive and readable\n",
    "\n",
    "# ✅ Constant (By Convention)\n",
    "PI = 3.14159  # constants are written in all caps by convention\n",
    "print(\"PI:\", PI)\n"
   ]
  },
  {
   "cell_type": "markdown",
   "id": "b298a70c",
   "metadata": {},
   "source": [
    "### Constants\n",
    "- Python does not have built-in constant types.\n",
    "- By convention, variables written in ALL_CAPS are treated as constants.\n",
    "- Constants are not enforced by Python — it's a developer discipline.\n",
    "- Use constants to store values that should not change."
   ]
  },
  {
   "cell_type": "code",
   "execution_count": null,
   "id": "de5b7f87",
   "metadata": {},
   "outputs": [],
   "source": [
    "# Define constants by convention\n",
    "PI = 3.14159\n",
    "GRAVITY = 9.8\n",
    "MAX_USERS = 100\n",
    "\n",
    "print(\"Pi:\", PI)\n",
    "print(\"Gravity:\", GRAVITY)\n",
    "print(\"Max Users:\", MAX_USERS)\n",
    "\n",
    "# Reassigning (not recommended, but possible)\n",
    "PI = 3.14\n",
    "print(\"Modified Pi:\", PI)  # Python won't stop you!\n",
    "\n",
    "# Use constants in functions\n",
    "def area_of_circle(radius):\n",
    "    return PI * radius * radius\n",
    "\n",
    "print(\"Area with radius 5:\", area_of_circle(5))\n"
   ]
  },
  {
   "cell_type": "code",
   "execution_count": null,
   "id": "be6828dc",
   "metadata": {},
   "outputs": [],
   "source": [
    "# Use typing.Final from Python 3.8+ to hint constants (no enforcement at runtime):\n",
    "from typing import Final\n",
    "\n",
    "PI: Final = 3.14159\n",
    "\n",
    "# Use enum.Enum for named constant groups:\n",
    "from enum import Enum\n",
    "\n",
    "class Status(Enum):\n",
    "    SUCCESS = 1\n",
    "    FAIL = 0\n",
    "\n",
    "print(Status.SUCCESS)\n"
   ]
  },
  {
   "cell_type": "markdown",
   "id": "9599c627",
   "metadata": {},
   "source": [
    "## Operators"
   ]
  },
  {
   "cell_type": "markdown",
   "id": "bb2bb787",
   "metadata": {},
   "source": [
    "- Arithmetic Operators\n",
    "- Comparison Operators\n",
    "- Logical Operators\n",
    "- Bitwise Operators\n",
    "- Assignment Operators\n",
    "- Membership and Identity \n",
    "- identity operators\n",
    "\n",
    "🧠 Important Notes\n",
    "- Logical operators work on boolean values.\n",
    "- Bitwise operators work on binary representation of integers.\n",
    "- Identity checks if two variables point to same object.\n",
    "- Membership checks if element is inside a container (list, string, etc)."
   ]
  },
  {
   "cell_type": "code",
   "execution_count": null,
   "id": "f8aed4c5",
   "metadata": {},
   "outputs": [],
   "source": [
    "# ===== Arithmetic Operators =====\n",
    "a = 10\n",
    "b = 3\n",
    "print(\"Arithmetic Operators:\")\n",
    "print(\"a + b =\", a + b)    # 13\n",
    "print(\"a - b =\", a - b)    # 7\n",
    "print(\"a * b =\", a * b)    # 30\n",
    "print(\"a / b =\", a / b)    # 3.3333...\n",
    "print(\"a % b =\", a % b)    # 1 (modulus)\n",
    "print(\"a ** b =\", a ** b)  # 1000 (power)\n",
    "print(\"a // b =\", a // b)  # 3 (floor division)\n",
    "\n",
    "print(\"\\n# ===== Assignment Operators =====\")\n",
    "x = 5\n",
    "print(\"Initial x =\", x)\n",
    "x += 3      # x = x + 3\n",
    "print(\"x += 3 ->\", x)\n",
    "x *= 2      # x = x * 2\n",
    "print(\"x *= 2 ->\", x)\n",
    "\n",
    "print(\"\\n# ===== Comparison Operators =====\")\n",
    "print(\"a == b:\", a == b)   # False\n",
    "print(\"a != b:\", a != b)   # True\n",
    "print(\"a > b:\", a > b)     # True\n",
    "print(\"a < b:\", a < b)     # False\n",
    "print(\"a >= b:\", a >= b)   # True\n",
    "print(\"a <= b:\", a <= b)   # False\n",
    "\n",
    "print(\"\\n# ===== Logical Operators =====\")\n",
    "print(\"True and False:\", True and False)  # False\n",
    "print(\"True or False:\", True or False)    # True\n",
    "print(\"not True:\", not True)               # False\n",
    "\n",
    "print(\"\\n# ===== Bitwise Operators =====\")\n",
    "x = 5     # 0b0101\n",
    "y = 3     # 0b0011\n",
    "print(\"x & y =\", x & y)    # 1 (0b0001)\n",
    "print(\"x | y =\", x | y)    # 7 (0b0111)\n",
    "print(\"x ^ y =\", x ^ y)    # 6 (0b0110)\n",
    "print(\"~x =\", ~x)          # -6 (bitwise NOT)\n",
    "print(\"x << 1 =\", x << 1)  # 10 (0b1010)\n",
    "print(\"x >> 1 =\", x >> 1)  # 2 (0b0010)\n",
    "\n",
    "print(\"\\n# ===== Membership Operators =====\")\n",
    "print(\"'a' in 'cat':\", 'a' in 'cat')        # True\n",
    "print(\"'x' not in 'cat':\", 'x' not in 'cat')# True\n",
    "\n",
    "print(\"\\n# ===== Identity Operators =====\")\n",
    "list1 = [1, 2, 3]\n",
    "list2 = list1\n",
    "list3 = [1, 2, 3]\n",
    "print(\"list1 is list2:\", list1 is list2)    # True (same object)\n",
    "print(\"list1 is list3:\", list1 is list3)    # False (different objects)\n",
    "print(\"list1 == list3:\", list1 == list3)    # True (equal content)\n"
   ]
  },
  {
   "cell_type": "markdown",
   "id": "cb44a588",
   "metadata": {},
   "source": [
    "## Control Flow (Conditionals and Loops)"
   ]
  },
  {
   "cell_type": "markdown",
   "id": "09c25bd2",
   "metadata": {},
   "source": [
    "- If, Elif, Else Statements\n",
    "- Loops : For, While Loops\n",
    "- Break, Continue, and Pass\n",
    "- List Comprehensions"
   ]
  },
  {
   "cell_type": "markdown",
   "id": "7ae463f8",
   "metadata": {},
   "source": [
    "### If, Elif, Else Statements\n",
    "- Used for conditional execution — running code based on conditions.\n",
    "- Python uses indentation to define blocks.\n",
    "- You can have one if, multiple elif (else if), and an optional else.\n",
    "- if ->       Checks first condition\n",
    "- elif ->     Checks additional conditions\n",
    "- else ->     Runs if none of above conditions are True\n",
    "- Conditions must evaluate to True or False.\n",
    "- Indentation is mandatory (usually 4 spaces).\n",
    "- No parentheses needed around conditions (optional but allowed).\n",
    "- elif is optional; you can use just if and else.\n",
    "- else is optional; you can have just if or if with elif.\n",
    "- Conditions can be any expression returning boolean (==, <, >, in, and, or, etc)."
   ]
  },
  {
   "cell_type": "code",
   "execution_count": null,
   "id": "064b467c",
   "metadata": {},
   "outputs": [],
   "source": [
    "x = 20\n",
    "\n",
    "if x > 30:\n",
    "    print(\"x is greater than 30\")\n",
    "elif x > 10:\n",
    "    print(\"x is greater than 10 but less or equal 30\")\n",
    "else:\n",
    "    print(\"x is 10 or less\")\n"
   ]
  },
  {
   "cell_type": "markdown",
   "id": "65ee93d0",
   "metadata": {},
   "source": [
    "### For Loop\n",
    "- Used to iterate over a sequence (like list, tuple, dict, set, string, range, etc).\n",
    "- Python's for loop is like \"for-each\" in other languages.\n",
    "- No index needed means it directly accesses elements\n",
    "- Use range() for for number loops\n",
    "- Can use break, continue, else with loops\n",
    "\n",
    "Notes:\n",
    "- range(n) gives numbers from 0 to n-1\n",
    "- break stops the loop\n",
    "- continue skips current iteration\n",
    "- else after loop runs only if loop wasn't broken\n",
    "\n"
   ]
  },
  {
   "cell_type": "code",
   "execution_count": null,
   "id": "305deb77",
   "metadata": {},
   "outputs": [],
   "source": [
    "# ===== For loop with list =====\n",
    "fruits = [\"apple\", \"banana\", \"cherry\"]\n",
    "for fruit in fruits:\n",
    "    print(\"Fruit:\", fruit)\n",
    "\n",
    "# ===== For loop with string =====\n",
    "for char in \"hello\":\n",
    "    print(\"Char:\", char)\n",
    "\n",
    "# ===== For loop with range =====\n",
    "for i in range(3):  # 0 to 2\n",
    "    print(\"Range i:\", i)\n",
    "\n",
    "# With start, stop, step\n",
    "for i in range(1, 10, 2):\n",
    "    print(\"Odd number:\", i)\n",
    "\n",
    "# ===== For loop with tuple =====\n",
    "nums = (10, 20, 30)\n",
    "for num in nums:\n",
    "    print(\"Tuple item:\", num)\n",
    "\n",
    "# ===== For loop with set =====\n",
    "items = {1, 2, 3}\n",
    "for item in items:\n",
    "    print(\"Set item:\", item)\n",
    "\n",
    "# ===== For loop with dictionary =====\n",
    "person = {\"name\": \"Alice\", \"age\": 30}\n",
    "for key in person:\n",
    "    print(\"Key:\", key, \"Value:\", person[key])\n",
    "\n",
    "# Or use items()\n",
    "for k, v in person.items():\n",
    "    print(\"k:\", k, \"| v:\", v)\n",
    "\n",
    "# ===== Loop with break =====\n",
    "for i in range(5):\n",
    "    if i == 3:\n",
    "        break\n",
    "    print(\"Break example i:\", i)\n",
    "\n",
    "# ===== Loop with continue =====\n",
    "for i in range(5):\n",
    "    if i == 2:\n",
    "        continue\n",
    "    print(\"Continue example i:\", i)\n",
    "\n",
    "# ===== For-else loop =====\n",
    "for i in range(3):\n",
    "    print(\"Checking:\", i)\n",
    "else:\n",
    "    print(\"Loop finished normally (no break)\")\n"
   ]
  },
  {
   "cell_type": "markdown",
   "id": "6481d95a",
   "metadata": {},
   "source": [
    "### While Loop\n",
    "- Repeats a block while a condition is True.\n",
    "- Use when you don't know how many times to loop in advance.\n",
    "- The condition is checked before each iteration.\n",
    "\n",
    "Notes:\n",
    "- Don't forget to update variables inside loop, or it may become infinite.\n",
    "- Use while when waiting for a condition, not when iterating fixed data."
   ]
  },
  {
   "cell_type": "code",
   "execution_count": null,
   "id": "888fa8b3",
   "metadata": {},
   "outputs": [],
   "source": [
    "# ===== Basic while loop =====\n",
    "count = 0\n",
    "while count < 3:\n",
    "    print(\"Count is:\", count)\n",
    "    count += 1\n",
    "\n",
    "# ===== Infinite loop with break =====\n",
    "n = 0\n",
    "while True:\n",
    "    print(\"n =\", n)\n",
    "    n += 1\n",
    "    if n == 3:\n",
    "        break  # Exit loop when n == 3\n",
    "\n",
    "# ===== Loop with continue =====\n",
    "x = 0\n",
    "while x < 5:\n",
    "    x += 1\n",
    "    if x == 2:\n",
    "        continue  # Skip the rest when x == 2\n",
    "    print(\"x =\", x)\n",
    "\n",
    "# ===== while-else =====\n",
    "y = 0\n",
    "while y < 3:\n",
    "    print(\"y =\", y)\n",
    "    y += 1\n",
    "else:\n",
    "    print(\"Loop ended normally\")\n",
    "\n",
    "# ===== Use with user input =====\n",
    "# Uncomment to test\n",
    "# while True:\n",
    "#     inp = input(\"Enter 'q' to quit: \")\n",
    "#     if inp == 'q':\n",
    "#         break\n",
    "#     print(\"You typed:\", inp)\n"
   ]
  },
  {
   "cell_type": "markdown",
   "id": "a32542e8",
   "metadata": {},
   "source": [
    "### Break, Continue, and Pass\n",
    "- break ->   Exit the loop immediately\n",
    "- continue -> Skip the current iteration and continue with the next iteration\n",
    "- pass ->     Do nothing (used as a placeholder), used in:  Empty function/class definitions and To-do blocks\n",
    "- All three are used inside loops or control structures.\n",
    "- pass does nothing — useful to write empty blocks without error.\n",
    "- break and continue affect the flow of loop execution."
   ]
  },
  {
   "cell_type": "code",
   "execution_count": null,
   "id": "74cd5271",
   "metadata": {},
   "outputs": [],
   "source": [
    "# ===== break example =====\n",
    "print(\"Break Example:\")\n",
    "for i in range(5):\n",
    "    if i == 3:\n",
    "        break\n",
    "    print(\"i =\", i)\n",
    "# Output: 0 1 2\n",
    "\n",
    "# ===== continue example =====\n",
    "print(\"\\nContinue Example:\")\n",
    "for i in range(5):\n",
    "    if i == 2:\n",
    "        continue\n",
    "    print(\"i =\", i)\n",
    "# Output: 0 1 3 4\n",
    "\n",
    "# ===== pass example =====\n",
    "print(\"\\nPass Example:\")\n",
    "for i in range(3):\n",
    "    if i == 1:\n",
    "        pass  # does nothing, avoids syntax error\n",
    "    print(\"i =\", i)\n",
    "# Output: 0 1 2\n",
    "\n",
    "# ===== while loop with break and continue =====\n",
    "print(\"\\nWhile Loop Example:\")\n",
    "n = 0\n",
    "while n < 5:\n",
    "    n += 1\n",
    "    if n == 2:\n",
    "        continue  # skip 2\n",
    "    if n == 4:\n",
    "        break     # stop at 4\n",
    "    print(\"n =\", n)\n",
    "# Output: 1 3\n"
   ]
  },
  {
   "cell_type": "markdown",
   "id": "e2fc15dc",
   "metadata": {},
   "source": [
    "### List Comprehensions\n",
    "- A compact way to create lists from iterables.\n",
    "- Replaces for loops used to build new lists."
   ]
  },
  {
   "cell_type": "code",
   "execution_count": null,
   "id": "6aee6d0b",
   "metadata": {},
   "outputs": [],
   "source": [
    "# ===== Basic list comprehension =====\n",
    "squares = [x**2 for x in range(5)]\n",
    "print(\"Squares:\", squares)  # [0, 1, 4, 9, 16]\n",
    "\n",
    "# ===== With condition =====\n",
    "evens = [x for x in range(10) if x % 2 == 0]\n",
    "print(\"Even numbers:\", evens)  # [0, 2, 4, 6, 8]\n",
    "\n",
    "# ===== With if-else in expression =====\n",
    "labels = [\"even\" if x % 2 == 0 else \"odd\" for x in range(5)]\n",
    "print(\"Labels:\", labels)  # ['even', 'odd', 'even', 'odd', 'even']\n",
    "\n",
    "# ===== With string =====\n",
    "letters = [ch.upper() for ch in \"hello\"]\n",
    "print(\"Letters:\", letters)  # ['H', 'E', 'L', 'L', 'O']\n",
    "\n",
    "# ===== Nested loops (2D list flattening) =====\n",
    "matrix = [[1, 2], [3, 4]]\n",
    "flat = [num for row in matrix for num in row]\n",
    "print(\"Flattened:\", flat)  # [1, 2, 3, 4]\n"
   ]
  },
  {
   "cell_type": "markdown",
   "id": "d231add6",
   "metadata": {},
   "source": [
    "### Dictionary Comprehension\n",
    "- A compact way to create dictionaries using a single line.\n",
    "- Similar to list comprehension, but creates key-value pairs."
   ]
  },
  {
   "cell_type": "code",
   "execution_count": null,
   "id": "a9eced91",
   "metadata": {},
   "outputs": [],
   "source": [
    "# ===== Basic dict comprehension =====\n",
    "squares = {x: x**2 for x in range(5)}\n",
    "print(\"Squares:\", squares)  # {0: 0, 1: 1, 2: 4, 3: 9, 4: 16}\n",
    "\n",
    "# ===== With condition =====\n",
    "even_squares = {x: x**2 for x in range(10) if x % 2 == 0}\n",
    "print(\"Even Squares:\", even_squares)  # {0: 0, 2: 4, ..., 8: 64}\n",
    "\n",
    "# ===== From list of tuples =====\n",
    "pairs = [(\"a\", 1), (\"b\", 2), (\"c\", 3)]\n",
    "d = {k: v for k, v in pairs}\n",
    "print(\"From tuples:\", d)  # {'a': 1, 'b': 2, 'c': 3}\n",
    "\n",
    "# ===== Swap keys and values =====\n",
    "original = {'x': 1, 'y': 2}\n",
    "swapped = {v: k for k, v in original.items()}\n",
    "print(\"Swapped:\", swapped)  # {1: 'x', 2: 'y'}\n",
    "\n",
    "# ===== Using string =====\n",
    "word = \"hello\"\n",
    "freq = {ch: word.count(ch) for ch in word}\n",
    "print(\"Char frequency:\", freq)  # {'h': 1, 'e': 1, 'l': 2, 'o': 1}"
   ]
  },
  {
   "cell_type": "markdown",
   "id": "c6be5f05",
   "metadata": {},
   "source": [
    "## Functions"
   ]
  },
  {
   "cell_type": "markdown",
   "id": "6bcb2256",
   "metadata": {},
   "source": [
    "### Functions\n",
    "- A function is a reusable block of code that performs a specific task when called."
   ]
  },
  {
   "cell_type": "code",
   "execution_count": null,
   "id": "40b04465",
   "metadata": {},
   "outputs": [],
   "source": [
    "# ===== Basic function =====\n",
    "def greet():\n",
    "    print(\"Hello!\")\n",
    "\n",
    "greet()  # Output: Hello!\n",
    "\n",
    "# ===== Function with parameters =====\n",
    "def add(a, b):\n",
    "    return a + b\n",
    "\n",
    "print(add(3, 5))  # Output: 8\n",
    "\n",
    "# ===== Function with default parameter =====\n",
    "def greet(name=\"Guest\"):\n",
    "    print(\"Hello,\", name)\n",
    "\n",
    "greet(\"Alice\")   # Output: Hello, Alice\n",
    "greet()          # Output: Hello, Guest\n",
    "\n",
    "# ===== Function with return =====\n",
    "def square(x):\n",
    "    return x * x\n",
    "\n",
    "result = square(4)\n",
    "print(result)  # Output: 16\n",
    "\n",
    "# ===== Function with docstring =====\n",
    "def multiply(x, y):\n",
    "    \"\"\"Returns the product of two numbers\"\"\"\n",
    "    return x * y\n",
    "\n",
    "print(multiply(2, 5))  # Output: 10\n",
    "print(multiply.__doc__)  # Output: Returns the product of two numbers\n"
   ]
  },
  {
   "cell_type": "markdown",
   "id": "d1f298e4",
   "metadata": {},
   "source": [
    "### *args and **kwargs\n",
    "\n",
    "🔑 When to Use\n",
    "- When the number of arguments isn't fixed.\n",
    "- To write flexible and reusable functions.\n",
    "\n",
    "Notes:\n",
    "- *args must come before **kwargs.\n",
    "- You can unpack lists/dicts into *args/**kwargs:\n",
    "\n",
    "\n",
    "| Syntax     | Stands for           | Accepts                         |\n",
    "| ---------- | -------------------- | ------------------------------- |\n",
    "| `*args`    | Positional arguments | A tuple of values               |\n",
    "| `**kwargs` | Keyword arguments    | A dictionary of key=value pairs |\n"
   ]
  },
  {
   "cell_type": "code",
   "execution_count": null,
   "id": "1c0e79ec",
   "metadata": {},
   "outputs": [],
   "source": [
    "# Using *args (Positional)\n",
    "def sum_all(*args):\n",
    "    print(\"Args as tuple:\", args)\n",
    "    return sum(args)\n",
    "\n",
    "print(sum_all(1, 2, 3))  # Output: 6\n",
    "print(sum_all(4, 5))     # Output: 9\n",
    "\n",
    "\n",
    "\n",
    "\n",
    "# Using **kwargs (Keyword)\n",
    "def print_info(**kwargs):\n",
    "    print(\"Kwargs as dict:\", kwargs)\n",
    "    for key, value in kwargs.items():\n",
    "        print(f\"{key}: {value}\")\n",
    "\n",
    "print_info(name=\"Alice\", age=30)\n",
    "# Output:\n",
    "# name: Alice\n",
    "# age: 30\n",
    "\n",
    "\n",
    "\n",
    "# Combine with normal arguments\n",
    "def show_data(title, *args, **kwargs):\n",
    "    print(\"Title:\", title)\n",
    "    print(\"Args:\", args)\n",
    "    print(\"Kwargs:\", kwargs)\n",
    "\n",
    "show_data(\"Student Info\", 90, 95, name=\"John\", grade=\"A\")\n",
    "\n",
    "\n",
    "\n",
    "values = [1, 2, 3]\n",
    "options = {\"debug\": True, \"verbose\": False}\n",
    "\n",
    "def test_func(*args, **kwargs):\n",
    "    print(args)      # returns tuple\n",
    "    print(kwargs)    # returns dict\n",
    "\n",
    "test_func(*values, **options)\n"
   ]
  },
  {
   "cell_type": "markdown",
   "id": "43742561",
   "metadata": {},
   "source": [
    "### Lambda Functions\n",
    "- A small anonymous function (no name).\n",
    "- Defined using the lambda keyword.\n",
    "- Can have any number of arguments, but only one expression.\n",
    "- Returns the result of the expression.\n",
    "- No need to write return.\n",
    "- Good for short one-line functions.\n",
    "- Avoid using it for complex logic — use def instead.\n",
    "- Often used as temporary functions in higher-order functions."
   ]
  },
  {
   "cell_type": "code",
   "execution_count": null,
   "id": "3d8eb807",
   "metadata": {},
   "outputs": [],
   "source": [
    "# ===== Basic Lambda Function =====\n",
    "square = lambda x: x * x\n",
    "print(\"Square of 5:\", square(5))  # Output: 25\n",
    "\n",
    "# ===== Lambda with Two Arguments =====\n",
    "add = lambda a, b: a + b\n",
    "print(\"Add 3 + 4:\", add(3, 4))  # Output: 7\n",
    "\n",
    "# ===== Lambda Inside Another Function =====\n",
    "def apply(func, value):\n",
    "    return func(value)\n",
    "\n",
    "result = apply(lambda x: x ** 2 + 1, 4)\n",
    "print(\"Apply lambda inside function:\", result)  # Output: 17\n",
    "\n",
    "# ===== Lambda with map() =====\n",
    "nums = [1, 2, 3]\n",
    "squared = list(map(lambda x: x ** 2, nums))\n",
    "print(\"map + lambda (squares):\", squared)  # [1, 4, 9]\n",
    "\n",
    "# ===== Lambda with filter() =====\n",
    "nums = [1, 2, 3, 4, 5]\n",
    "even = list(filter(lambda x: x % 2 == 0, nums))\n",
    "print(\"filter + lambda (evens):\", even)  # [2, 4]\n",
    "\n",
    "# ===== Lambda with sorted() =====\n",
    "pairs = [(1, 'b'), (3, 'a'), (2, 'c')]\n",
    "sorted_pairs = sorted(pairs, key=lambda x: x[1])\n",
    "print(\"sorted + lambda by 2nd element:\", sorted_pairs)\n",
    "# Output: [(3, 'a'), (1, 'b'), (2, 'c')]\n"
   ]
  },
  {
   "cell_type": "markdown",
   "id": "af6fc786",
   "metadata": {},
   "source": [
    "\n",
    "### Recursion\n",
    "- A function that calls itself to solve a smaller subproblem.\n",
    "- Each recursive call should move towards a base case to stop.\n",
    "- Best Case - Condition where function stops calling itself\n",
    "- Recursive Case - Part where function calls itself with smaller input\n",
    "- Must have a base case or it will cause infinite recursion (and crash with a RecursionError).\n",
    "- Recursive solutions can be elegant, but sometimes slower than loops (due to repeated calls).\n",
    "- For performance, memoization can be used (functools.lru_cache).\n"
   ]
  },
  {
   "cell_type": "code",
   "execution_count": null,
   "id": "71398f6d",
   "metadata": {},
   "outputs": [],
   "source": [
    "# ===== Factorial using recursion =====\n",
    "def factorial(n):\n",
    "    if n == 0 or n == 1:        # base case\n",
    "        return 1\n",
    "    return n * factorial(n - 1) # recursive call\n",
    "\n",
    "print(\"Factorial of 5:\", factorial(5))  # Output: 120\n",
    "\n",
    "\n",
    "# ===== Fibonacci using recursion =====\n",
    "def fibonacci(n):\n",
    "    if n == 0:\n",
    "        return 0\n",
    "    if n == 1:\n",
    "        return 1\n",
    "    return fibonacci(n - 1) + fibonacci(n - 2)\n",
    "\n",
    "print(\"Fibonacci(6):\", fibonacci(6))  # Output: 8\n",
    "\n",
    "\n",
    "# ===== Sum of digits using recursion =====\n",
    "def sum_digits(n):\n",
    "    if n < 10:\n",
    "        return n\n",
    "    return n % 10 + sum_digits(n // 10)\n",
    "\n",
    "print(\"Sum of digits of 1234:\", sum_digits(1234))  # Output: 10\n",
    "\n",
    "\n",
    "# ===== Reverse a string using recursion =====\n",
    "def reverse(s):\n",
    "    if len(s) <= 1:\n",
    "        return s\n",
    "    return reverse(s[1:]) + s[0]\n",
    "\n",
    "print(\"Reverse of 'hello':\", reverse(\"hello\"))  # Output: 'olleh'\n"
   ]
  },
  {
   "cell_type": "markdown",
   "id": "381e0e44",
   "metadata": {},
   "source": [
    "## Error Handling"
   ]
  },
  {
   "cell_type": "markdown",
   "id": "72f6aa55",
   "metadata": {},
   "source": [
    "### Try, Except, Else, Finally\n",
    "- Process of managing runtime errors so program doesn't crash.\n",
    "- Use try, except, else, and finally blocks.\n",
    "- Use specific exceptions to handle particular errors."
   ]
  },
  {
   "cell_type": "code",
   "execution_count": null,
   "id": "78610e63",
   "metadata": {},
   "outputs": [],
   "source": [
    "# Syntax \n",
    "try:\n",
    "    # code that might cause error\n",
    "    pass\n",
    "except SomeError:\n",
    "    # code to handle error\n",
    "    pass\n",
    "else:\n",
    "    # code if no error occurred\n",
    "    pass\n",
    "finally:\n",
    "    # code that runs always (optional)\n",
    "    pass\n"
   ]
  },
  {
   "cell_type": "code",
   "execution_count": null,
   "id": "45fd640c",
   "metadata": {},
   "outputs": [],
   "source": [
    "# ===== Basic try-except =====\n",
    "try:\n",
    "    x = 10 / 0\n",
    "except ZeroDivisionError:\n",
    "    print(\"Cannot divide by zero!\")\n",
    "\n",
    "# ===== Multiple except blocks =====\n",
    "try:\n",
    "    val = int(input(\"Enter a number: \"))\n",
    "except ValueError:\n",
    "    print(\"Invalid input! Not a number.\")\n",
    "except KeyboardInterrupt:\n",
    "    print(\"Input interrupted by user.\")\n",
    "\n",
    "# ===== else block =====\n",
    "try:\n",
    "    result = 10 / 2\n",
    "except ZeroDivisionError:\n",
    "    print(\"Error occurred!\")\n",
    "else:\n",
    "    print(\"Result is\", result)\n",
    "\n",
    "# ===== finally block =====\n",
    "try:\n",
    "    file = open(\"test.txt\")\n",
    "except FileNotFoundError:\n",
    "    print(\"File not found!\")\n",
    "else:\n",
    "    print(\"File opened successfully\")\n",
    "finally:\n",
    "    print(\"Execution finished\")\n"
   ]
  },
  {
   "cell_type": "markdown",
   "id": "c188c984",
   "metadata": {},
   "source": [
    "- Try, Except, Else, Finally\n",
    "- Raising Exceptions\n",
    "- Custom Exceptions"
   ]
  },
  {
   "cell_type": "markdown",
   "id": "c937e700",
   "metadata": {},
   "source": [
    "### Raising Exceptions\n",
    "You manually trigger an error using raise.\n",
    "\n",
    "Useful for enforcing rules or signaling problems.\n",
    "ExceptionType can be built-in (like ValueError) or custom.\n",
    "\n",
    "The message explains the error."
   ]
  },
  {
   "cell_type": "code",
   "execution_count": null,
   "id": "87ae444b",
   "metadata": {},
   "outputs": [],
   "source": [
    "# ===== Raise a ValueError =====\n",
    "def set_age(age):\n",
    "    if age < 0:\n",
    "        raise ValueError(\"Age cannot be negative\")\n",
    "    print(f\"Age set to {age}\")\n",
    "\n",
    "try:\n",
    "    set_age(-5)\n",
    "except ValueError as e:\n",
    "    print(\"Caught error:\", e)\n",
    "\n",
    "# ===== Raise a generic Exception =====\n",
    "def check_password(pwd):\n",
    "    if len(pwd) < 6:\n",
    "        raise Exception(\"Password too short!\")\n",
    "\n",
    "try:\n",
    "    check_password(\"abc\")\n",
    "except Exception as e:\n",
    "    print(\"Error:\", e)\n"
   ]
  },
  {
   "cell_type": "markdown",
   "id": "8e52dc5f",
   "metadata": {},
   "source": [
    "### Custom Exceptions\n",
    "- User-defined error types by subclassing built-in Exception.\n",
    "- Helps make error handling more specific and readable.\n",
    "\n",
    "Syntax:\n",
    "class MyError(Exception):\n",
    "    pass\n",
    "\n",
    "or with custom message:\n",
    "class MyError(Exception):\n",
    "    def __init__(self, message):\n",
    "        super().__init__(message)\n",
    "\n",
    "\n",
    "Notes:\n",
    "- Custom exceptions improve clarity when catching specific errors.\n",
    "- Use descriptive names ending with Error by convention.\n",
    "- Can add extra attributes/methods if needed for more info.\n"
   ]
  },
  {
   "cell_type": "code",
   "execution_count": null,
   "id": "842d0edd",
   "metadata": {},
   "outputs": [],
   "source": [
    "# ===== Simple custom exception =====\n",
    "class NegativeAgeError(Exception):\n",
    "    pass\n",
    "\n",
    "def set_age(age):\n",
    "    if age < 0:\n",
    "        raise NegativeAgeError(\"Age cannot be negative\")\n",
    "    print(f\"Age set to {age}\")\n",
    "\n",
    "try:\n",
    "    set_age(-10)\n",
    "except NegativeAgeError as e:\n",
    "    print(\"Caught error:\", e)\n",
    "\n",
    "\n",
    "# ===== Custom exception with init =====\n",
    "class PasswordTooShortError(Exception):\n",
    "    def __init__(self, message):\n",
    "        super().__init__(message)\n",
    "\n",
    "def check_password(pwd):\n",
    "    if len(pwd) < 6:\n",
    "        raise PasswordTooShortError(\"Password must be at least 6 characters\")\n",
    "\n",
    "try:\n",
    "    check_password(\"abc\")\n",
    "except PasswordTooShortError as e:\n",
    "    print(\"Password error:\", e)\n"
   ]
  },
  {
   "cell_type": "markdown",
   "id": "e59d09c9",
   "metadata": {},
   "source": [
    "## File Handling"
   ]
  },
  {
   "cell_type": "markdown",
   "id": "befde8aa",
   "metadata": {},
   "source": [
    "- Reading Files\n",
    "- Writing to Files\n",
    "- File Modes (Read, Write, Append)\n",
    "- Working with Directories"
   ]
  },
  {
   "cell_type": "markdown",
   "id": "e219b486",
   "metadata": {},
   "source": []
  },
  {
   "cell_type": "markdown",
   "id": "8b90f3dc",
   "metadata": {},
   "source": []
  },
  {
   "cell_type": "markdown",
   "id": "cbaadec1",
   "metadata": {},
   "source": []
  },
  {
   "cell_type": "markdown",
   "id": "986d145e",
   "metadata": {},
   "source": []
  },
  {
   "cell_type": "markdown",
   "id": "12a133dd",
   "metadata": {},
   "source": [
    "## Modules and Packages"
   ]
  },
  {
   "cell_type": "markdown",
   "id": "726b034b",
   "metadata": {},
   "source": [
    "- Importing Modules\n",
    "- Creating Modules and Packages\n",
    "- Standard Library (e.g., math, os, sys)"
   ]
  },
  {
   "cell_type": "code",
   "execution_count": null,
   "id": "ab9313ee",
   "metadata": {},
   "outputs": [],
   "source": [
    "# Your code here"
   ]
  },
  {
   "cell_type": "markdown",
   "id": "28b69241",
   "metadata": {},
   "source": [
    "## Object-Oriented Programming (OOP) - Basics"
   ]
  },
  {
   "cell_type": "markdown",
   "id": "88f8c773",
   "metadata": {},
   "source": [
    "- Classes and Objects\n",
    "- Attributes and Methods\n",
    "- Constructors (__init__)\n",
    "- Inheritance\n",
    "- Encapsulation and Abstraction"
   ]
  },
  {
   "cell_type": "code",
   "execution_count": null,
   "id": "c5bd77ab",
   "metadata": {},
   "outputs": [],
   "source": [
    "# Your code here"
   ]
  },
  {
   "cell_type": "markdown",
   "id": "2e32c34a",
   "metadata": {},
   "source": [
    "## Iterators and Generators"
   ]
  },
  {
   "cell_type": "markdown",
   "id": "7281d404",
   "metadata": {},
   "source": [
    "- Iterators in Python\n",
    "- Creating Custom Iterators\n",
    "- Generators and yield keyword"
   ]
  },
  {
   "cell_type": "code",
   "execution_count": null,
   "id": "9080eb58",
   "metadata": {},
   "outputs": [],
   "source": [
    "# Your code here"
   ]
  },
  {
   "cell_type": "markdown",
   "id": "194d9cd4",
   "metadata": {},
   "source": [
    "# Intermediate"
   ]
  },
  {
   "cell_type": "markdown",
   "id": "5cfc5906",
   "metadata": {},
   "source": [
    "### Advanced Data Structures"
   ]
  },
  {
   "cell_type": "markdown",
   "id": "f4fb21a0",
   "metadata": {},
   "source": [
    "- Stacks and Queues\n",
    "- Linked Lists\n",
    "- Trees (Binary Tree, Binary Search Tree)\n",
    "- Graphs\n",
    "- Heaps"
   ]
  },
  {
   "cell_type": "code",
   "execution_count": null,
   "id": "59ca27e2",
   "metadata": {},
   "outputs": [],
   "source": [
    "# Your code here"
   ]
  },
  {
   "cell_type": "markdown",
   "id": "3eccacad",
   "metadata": {},
   "source": [
    "### Decorators"
   ]
  },
  {
   "cell_type": "markdown",
   "id": "f96a156a",
   "metadata": {},
   "source": [
    "- Function Decorators\n",
    "- Class Decorators\n",
    "- Use of functools.wraps"
   ]
  },
  {
   "cell_type": "code",
   "execution_count": null,
   "id": "dd3f21ce",
   "metadata": {},
   "outputs": [],
   "source": [
    "# Your code here"
   ]
  },
  {
   "cell_type": "markdown",
   "id": "e0126ec3",
   "metadata": {},
   "source": [
    "### File Operations"
   ]
  },
  {
   "cell_type": "markdown",
   "id": "70a510e5",
   "metadata": {},
   "source": [
    "- File I/O with JSON, CSV, and XML\n",
    "- Working with Databases (SQLite, MySQL)\n",
    "- Pickling and Unpickling"
   ]
  },
  {
   "cell_type": "code",
   "execution_count": null,
   "id": "d1a43816",
   "metadata": {},
   "outputs": [],
   "source": [
    "# Your code here"
   ]
  },
  {
   "cell_type": "markdown",
   "id": "fb3b724b",
   "metadata": {},
   "source": [
    "### Regular Expressions (Regex)"
   ]
  },
  {
   "cell_type": "markdown",
   "id": "538b1c68",
   "metadata": {},
   "source": [
    "- Basic Regex Syntax\n",
    "- Matching and Searching Patterns\n",
    "- Using the re module"
   ]
  },
  {
   "cell_type": "code",
   "execution_count": null,
   "id": "22f34697",
   "metadata": {},
   "outputs": [],
   "source": [
    "# Your code here"
   ]
  },
  {
   "cell_type": "markdown",
   "id": "b3a53454",
   "metadata": {},
   "source": [
    "### Concurrency and Parallelism"
   ]
  },
  {
   "cell_type": "markdown",
   "id": "02e59e82",
   "metadata": {},
   "source": [
    "- Multithreading\n",
    "- Multiprocessing\n",
    "- Asynchronous Programming (using asyncio)"
   ]
  },
  {
   "cell_type": "code",
   "execution_count": null,
   "id": "534a0a65",
   "metadata": {},
   "outputs": [],
   "source": [
    "# Your code here"
   ]
  },
  {
   "cell_type": "markdown",
   "id": "6d9826f6",
   "metadata": {},
   "source": [
    "### Working with APIs"
   ]
  },
  {
   "cell_type": "markdown",
   "id": "a5a002e3",
   "metadata": {},
   "source": [
    "- Sending HTTP Requests (using requests library)\n",
    "- Parsing JSON data\n",
    "- Authentication and Authorization"
   ]
  },
  {
   "cell_type": "code",
   "execution_count": null,
   "id": "b9b8e66b",
   "metadata": {},
   "outputs": [],
   "source": [
    "# Your code here"
   ]
  },
  {
   "cell_type": "markdown",
   "id": "f4793746",
   "metadata": {},
   "source": [
    "### Unit Testing"
   ]
  },
  {
   "cell_type": "markdown",
   "id": "246a08ad",
   "metadata": {},
   "source": [
    "- Writing Unit Tests with unittest\n",
    "- Assertions\n",
    "- Test-driven development (TDD)\n",
    "- Mocking"
   ]
  },
  {
   "cell_type": "code",
   "execution_count": null,
   "id": "d86db2f5",
   "metadata": {},
   "outputs": [],
   "source": [
    "# Your code here"
   ]
  },
  {
   "cell_type": "markdown",
   "id": "383afc43",
   "metadata": {},
   "source": [
    "### Virtual Environments"
   ]
  },
  {
   "cell_type": "markdown",
   "id": "6227bb8d",
   "metadata": {},
   "source": [
    "- Setting up Virtual Environments (using venv or virtualenv)\n",
    "- Dependency Management with pip\n",
    "- Creating requirements.txt"
   ]
  },
  {
   "cell_type": "code",
   "execution_count": null,
   "id": "ea56f8cd",
   "metadata": {},
   "outputs": [],
   "source": [
    "# Your code here"
   ]
  },
  {
   "cell_type": "markdown",
   "id": "fb108d96",
   "metadata": {},
   "source": [
    "### Python Libraries"
   ]
  },
  {
   "cell_type": "markdown",
   "id": "0091cfd9",
   "metadata": {},
   "source": [
    "- NumPy for Numerical Computing\n",
    "- Pandas for Data Manipulation\n",
    "- Matplotlib and Seaborn for Data Visualization\n",
    "- SciPy for Scientific Computation"
   ]
  },
  {
   "cell_type": "code",
   "execution_count": null,
   "id": "95d87f2f",
   "metadata": {},
   "outputs": [],
   "source": [
    "# Your code here"
   ]
  },
  {
   "cell_type": "markdown",
   "id": "25921709",
   "metadata": {},
   "source": [
    "# Advanced"
   ]
  },
  {
   "cell_type": "markdown",
   "id": "145db224",
   "metadata": {},
   "source": [
    "### Advanced Object-Oriented Programming (OOP)"
   ]
  },
  {
   "cell_type": "markdown",
   "id": "0ac654d2",
   "metadata": {},
   "source": [
    "- Multiple Inheritance\n",
    "- Method Resolution Order (MRO)\n",
    "- Class and Static Methods\n",
    "- Descriptors and Metaclasses\n",
    "- Magic Methods (e.g., __str__, __repr__, __call__, __getitem__)"
   ]
  },
  {
   "cell_type": "code",
   "execution_count": null,
   "id": "6d30e971",
   "metadata": {},
   "outputs": [],
   "source": [
    "# Your code here"
   ]
  },
  {
   "cell_type": "markdown",
   "id": "bd33554e",
   "metadata": {},
   "source": [
    "### Design Patterns"
   ]
  },
  {
   "cell_type": "markdown",
   "id": "b2ac530c",
   "metadata": {},
   "source": [
    "- Singleton\n",
    "- Factory\n",
    "- Observer\n",
    "- Strategy\n",
    "- Command\n",
    "- Adapter"
   ]
  },
  {
   "cell_type": "code",
   "execution_count": null,
   "id": "3caf141c",
   "metadata": {},
   "outputs": [],
   "source": [
    "# Your code here"
   ]
  },
  {
   "cell_type": "markdown",
   "id": "17822447",
   "metadata": {},
   "source": [
    "### Functional Programming"
   ]
  },
  {
   "cell_type": "markdown",
   "id": "9806976f",
   "metadata": {},
   "source": [
    "- Map, Filter, Reduce\n",
    "- Higher-order Functions\n",
    "- Immutable Data Structures\n",
    "- Closures and Lexical Scoping"
   ]
  },
  {
   "cell_type": "code",
   "execution_count": null,
   "id": "acaaa704",
   "metadata": {},
   "outputs": [],
   "source": [
    "# Your code here"
   ]
  },
  {
   "cell_type": "markdown",
   "id": "c08b3fc8",
   "metadata": {},
   "source": [
    "### Memory Management"
   ]
  },
  {
   "cell_type": "markdown",
   "id": "1d31fdc4",
   "metadata": {},
   "source": [
    "- Memory Leaks and Garbage Collection\n",
    "- Object Referencing and Counting\n",
    "- gc module (garbage collection)\n",
    "- Memory Profiling"
   ]
  },
  {
   "cell_type": "code",
   "execution_count": null,
   "id": "11f490df",
   "metadata": {},
   "outputs": [],
   "source": [
    "# Your code here"
   ]
  },
  {
   "cell_type": "markdown",
   "id": "aad85756",
   "metadata": {},
   "source": [
    "### Advanced Data Structures and Algorithms"
   ]
  },
  {
   "cell_type": "markdown",
   "id": "c43a28b6",
   "metadata": {},
   "source": [
    "- Dynamic Programming\n",
    "- Sorting Algorithms (Quick Sort, Merge Sort, etc.)\n",
    "- Searching Algorithms (Binary Search, BFS, DFS)\n",
    "- Graph Algorithms (Dijkstra's, Floyd-Warshall)\n",
    "- Hashing Techniques"
   ]
  },
  {
   "cell_type": "code",
   "execution_count": null,
   "id": "e4ba1ded",
   "metadata": {},
   "outputs": [],
   "source": [
    "# Your code here"
   ]
  },
  {
   "cell_type": "markdown",
   "id": "c17928c7",
   "metadata": {},
   "source": [
    "### Asyncio and Asynchronous Programming"
   ]
  },
  {
   "cell_type": "markdown",
   "id": "4b7889e3",
   "metadata": {},
   "source": [
    "- async and await\n",
    "- Event Loop and Task Scheduling\n",
    "- Asynchronous I/O\n",
    "- Coroutines and Futures"
   ]
  },
  {
   "cell_type": "code",
   "execution_count": null,
   "id": "f9b807bf",
   "metadata": {},
   "outputs": [],
   "source": [
    "# Your code here"
   ]
  },
  {
   "cell_type": "markdown",
   "id": "0c50649f",
   "metadata": {},
   "source": [
    "### Python for Web Development"
   ]
  },
  {
   "cell_type": "markdown",
   "id": "9385c31f",
   "metadata": {},
   "source": [
    "### Web Frameworks  Flask, Django"
   ]
  },
  {
   "cell_type": "markdown",
   "id": "8cd9aa0c",
   "metadata": {},
   "source": [
    "- REST APIs with Flask/Django\n",
    "- Template Engines (e.g., Jinja2)\n",
    "- WebSocket and Real-Time Communication"
   ]
  },
  {
   "cell_type": "code",
   "execution_count": null,
   "id": "a3e1ce90",
   "metadata": {},
   "outputs": [],
   "source": [
    "# Your code here"
   ]
  },
  {
   "cell_type": "markdown",
   "id": "ad81af14",
   "metadata": {},
   "source": [
    "### Python for Data Science and Machine Learning"
   ]
  },
  {
   "cell_type": "markdown",
   "id": "5fb6ca98",
   "metadata": {},
   "source": [
    "- Data Cleaning and Preprocessing\n",
    "- Supervised vs. Unsupervised Learning\n",
    "- Scikit-learn for Machine Learning\n",
    "- TensorFlow and Keras for Deep Learning\n",
    "- Natural Language Processing (NLP)\n",
    "- Model Evaluation Metrics"
   ]
  },
  {
   "cell_type": "code",
   "execution_count": null,
   "id": "182c6342",
   "metadata": {},
   "outputs": [],
   "source": [
    "# Your code here"
   ]
  },
  {
   "cell_type": "markdown",
   "id": "628d7bc6",
   "metadata": {},
   "source": [
    "### Testing and Debugging"
   ]
  },
  {
   "cell_type": "markdown",
   "id": "65f4e6d6",
   "metadata": {},
   "source": [
    "- Debugging with pdb and IDE debuggers\n",
    "- Advanced Unit Testing (mocking and patching)\n",
    "- Code Coverage and Profiling\n",
    "- Continuous Integration/Continuous Deployment (CI/CD)"
   ]
  },
  {
   "cell_type": "code",
   "execution_count": null,
   "id": "f002f308",
   "metadata": {},
   "outputs": [],
   "source": [
    "# Your code here"
   ]
  },
  {
   "cell_type": "markdown",
   "id": "99188b3f",
   "metadata": {},
   "source": [
    "### Python for Automation"
   ]
  },
  {
   "cell_type": "markdown",
   "id": "18d4641b",
   "metadata": {},
   "source": [
    "- Scripting with Python\n",
    "- Automation with selenium\n",
    "- Task Scheduling with schedule and cron"
   ]
  },
  {
   "cell_type": "code",
   "execution_count": null,
   "id": "c85c7445",
   "metadata": {},
   "outputs": [],
   "source": [
    "# Your code here"
   ]
  },
  {
   "cell_type": "markdown",
   "id": "2843c162",
   "metadata": {},
   "source": [
    "### Python in Networking"
   ]
  },
  {
   "cell_type": "markdown",
   "id": "878e12df",
   "metadata": {},
   "source": [
    "- Socket Programming\n",
    "- Building Client-Server Applications\n",
    "- Working with HTTP(S) Protocol\n",
    "- DNS and IP address manipulation"
   ]
  },
  {
   "cell_type": "code",
   "execution_count": null,
   "id": "dbd2e04d",
   "metadata": {},
   "outputs": [],
   "source": [
    "# Your code here"
   ]
  },
  {
   "cell_type": "markdown",
   "id": "a3232ba9",
   "metadata": {},
   "source": [
    "### Python in Cybersecurity"
   ]
  },
  {
   "cell_type": "markdown",
   "id": "32feae0a",
   "metadata": {},
   "source": [
    "- Cryptography with Python (pycryptodome, cryptography)\n",
    "- Penetration Testing with Python\n",
    "- Creating Network Sniffers and Analyzers"
   ]
  },
  {
   "cell_type": "code",
   "execution_count": null,
   "id": "f8cf6131",
   "metadata": {},
   "outputs": [],
   "source": [
    "# Your code here"
   ]
  },
  {
   "cell_type": "markdown",
   "id": "b436960a",
   "metadata": {},
   "source": [
    "### Python Performance Optimization Topics"
   ]
  },
  {
   "cell_type": "markdown",
   "id": "0932ab68",
   "metadata": {},
   "source": [
    "### Profiling and Benchmarking"
   ]
  },
  {
   "cell_type": "markdown",
   "id": "9b975bca",
   "metadata": {},
   "source": [
    "- Using cProfile to Profile Code\n",
    "- Time Complexity Analysis\n",
    "- Using timeit for Benchmarks"
   ]
  },
  {
   "cell_type": "code",
   "execution_count": null,
   "id": "04b7d926",
   "metadata": {},
   "outputs": [],
   "source": [
    "# Your code here"
   ]
  },
  {
   "cell_type": "markdown",
   "id": "68eddf61",
   "metadata": {},
   "source": [
    "### Optimizing Python Code"
   ]
  },
  {
   "cell_type": "markdown",
   "id": "4522fe2e",
   "metadata": {},
   "source": [
    "- Avoiding Global Variables\n",
    "- Reducing Memory Usage\n",
    "- Efficient Algorithms and Data Structures\n",
    "- Using Libraries like NumPy for Efficient Computation"
   ]
  },
  {
   "cell_type": "code",
   "execution_count": null,
   "id": "f8eb7ab1",
   "metadata": {},
   "outputs": [],
   "source": [
    "# Your code here"
   ]
  },
  {
   "cell_type": "markdown",
   "id": "bcc8b889",
   "metadata": {},
   "source": [
    "### Cython and JIT Compilation"
   ]
  },
  {
   "cell_type": "markdown",
   "id": "0f06a860",
   "metadata": {},
   "source": [
    "- Using Cython to Speed up Python Code\n",
    "- Just-In-Time Compilation with PyPy"
   ]
  },
  {
   "cell_type": "code",
   "execution_count": null,
   "id": "33f02814",
   "metadata": {},
   "outputs": [],
   "source": [
    "# Your code here"
   ]
  }
 ],
 "metadata": {
  "kernelspec": {
   "display_name": "base",
   "language": "python",
   "name": "python3"
  },
  "language_info": {
   "codemirror_mode": {
    "name": "ipython",
    "version": 3
   },
   "file_extension": ".py",
   "mimetype": "text/x-python",
   "name": "python",
   "nbconvert_exporter": "python",
   "pygments_lexer": "ipython3",
   "version": "3.12.7"
  }
 },
 "nbformat": 4,
 "nbformat_minor": 5
}
