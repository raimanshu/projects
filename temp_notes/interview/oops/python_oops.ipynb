{
 "cells": [
  {
   "cell_type": "markdown",
   "metadata": {},
   "source": [
    "<!-- Headings: # Heading 1, ## Heading 2, etc.\n",
    "Bold: **Bold**, __Bold__\n",
    "Italics: *Italic*, _Italic_\n",
    "Strikethrough: ~~Struckthrough~~\n",
    "Lists: - Item, 1. Item\n",
    "Links: [OpenAI](https://openai.com)\n",
    "Images: ![alt text](URL)\n",
    "Inline Code: `code`\n",
    "Code Block: code block ```\n",
    "Blockquotes: > Blockquote\n",
    "Horizontal Line: ---, ***, ___\n",
    "Tables: | Header | | Data |\n",
    "Math (LaTeX): $formula$ for inline, $$formula$$ for block\n",
    "Escaping Characters: \\#, \\*, \\-\n",
    "Task Lists: - [ ] Task, - [x] Done\n",
    " -->\n",
    "\n"
   ]
  },
  {
   "cell_type": "markdown",
   "metadata": {},
   "source": [
    "1. Procedural vs Functional vs object oriented programming\n",
    "    - Structural programming\n",
    "        Imperative programming\n",
    "        Logic programming\n",
    "        Declarative programming\n",
    "    - Functional programming / Procedural programming \n",
    "    - Object Oriented\n",
    "    - Comparision between Procedural, Functional and Object Oriented Programming\n",
    "2. OOPS\n",
    "    - Class\n",
    "    - Object\n",
    "    - Inheritance\n",
    "    - Encapsulation\n",
    "    - Polymorphism\n",
    "        - static polymorphism\n",
    "        - dynamic polymorphism\n",
    "    - Abstraction\n",
    "        - Data Abstraction vs Data Hiding is same as Abstraction vs Encapsulation\n",
    "        - Variable/Method Overloading\n",
    "        - Variable/Method/Constructor/Operator Overriding\n",
    "\n",
    "\n",
    "   6. Abstraction\n",
    "   7. Static and Dynamic Polymorphism\n",
    "   8. Data Abstraction\n",
    "   9. Data Hiding\n",
    "   10. Data Encapsulation\n",
    "   11. Data Binding\n",
    "''''''''''''''''''''''''''''''''''''"
   ]
  },
  {
   "cell_type": "markdown",
   "metadata": {},
   "source": [
    "# 1.  Proocedural VS Functional vs Object Oriented Programming"
   ]
  },
  {
   "cell_type": "markdown",
   "metadata": {},
   "source": [
    "## Procedural Language\n",
    "What is procedural language?\n",
    "- Programming style based on procedures or functions.\n",
    "- Code is organized as a sequence of instructions to perform tasks.\n",
    "- Focuses on actions rather than data.\n",
    "\n",
    "\n",
    "Drawbacks of procedural language\n",
    "- Longer and less concise.\n",
    "- less readable\n",
    "- no readability\n",
    "- variable names may conflict when multiple people are working on same project\n",
    "- previous answers/result may effect other steps down the line"
   ]
  },
  {
   "cell_type": "code",
   "execution_count": null,
   "metadata": {},
   "outputs": [],
   "source": [
    "student1Name = \"Name1\"\n",
    "student1RollNumber = 1\n",
    "student1Marks = 90\n",
    "\n",
    "student2Name = \"Name2\"\n",
    "student2RollNumber = 2\n",
    "student2Marks = 80\n",
    "\n",
    "student3Name = \"Name3\"\n",
    "student3RollNumber = 3\n",
    "student3Marks = 100\n",
    "\n",
    "# Calculate average marks\n",
    "total_marks = student1Marks + student2Marks + student3Marks\n",
    "average_marks = total_marks / 3\n",
    "print(\"Average Marks:\", average_marks)\n",
    "\n",
    "# Find the topper\n",
    "if student1Marks > student2Marks and student1Marks > student3Marks:\n",
    "    topper = student1Name\n",
    "elif student2Marks > student3Marks:\n",
    "    topper = student2Name\n",
    "else:\n",
    "    topper = student3Name\n",
    "\n",
    "print(\"Topper:\", topper)\n"
   ]
  },
  {
   "cell_type": "markdown",
   "metadata": {},
   "source": [
    "## Functional Language\n",
    "What is functional language?\n",
    "- Programming style functions to increase reusability of same requirement.\n",
    "\n",
    "Drawbacks of functional language\n",
    "- No built-in way to ensure every student dictionary has all required fields or correct types\n",
    "- Functions are separate from the data they operate on, making it harder to track related data and behavior together.\n",
    "- Managing nested dictionaries and lists manually can get confusing as more attributes or students are added."
   ]
  },
  {
   "cell_type": "code",
   "execution_count": null,
   "metadata": {},
   "outputs": [
    {
     "name": "stdout",
     "output_type": "stream",
     "text": [
      "Average Marks: 90.0\n",
      "Topper: Name3\n"
     ]
    }
   ],
   "source": [
    "students = [\n",
    "    {\"name\": \"Name1\", \"roll\": 1, \"marks\": 90},\n",
    "    {\"name\": \"Name2\", \"roll\": 2, \"marks\": 80},\n",
    "    {\"name\": \"Name3\", \"roll\": 3, \"marks\": 100}\n",
    "]\n",
    "\n",
    "def get_marks(student_list):\n",
    "    return list(map(lambda s: s[\"marks\"], student_list))\n",
    "\n",
    "def calculate_average(marks):\n",
    "    return sum(marks) / len(marks)\n",
    "\n",
    "def find_topper(student_list):\n",
    "    return max(student_list, key=lambda s: s[\"marks\"])[\"name\"]\n",
    "\n",
    "marks = get_marks(students)\n",
    "average_marks = calculate_average(marks)\n",
    "topper = find_topper(students)\n",
    "\n",
    "print(\"Average Marks:\", average_marks)\n",
    "print(\"Topper:\", topper)"
   ]
  },
  {
   "cell_type": "markdown",
   "metadata": {},
   "source": [
    "## Object Oriented Programming\n",
    "What is OOP?\n",
    "- Programming style using objects and classes.\n",
    "- Helps organize code into reusable, related bundles.\n",
    "- Generality to Speciificity. ⭐\n",
    "\n",
    "Advantages of OOPs\n",
    "- Data (attributes) and behavior (methods) bundled together inside classes.\n",
    "- Easy to manage students as objects.\n",
    "- Clear, reusable, and scalable code structure."
   ]
  },
  {
   "cell_type": "code",
   "execution_count": null,
   "metadata": {},
   "outputs": [
    {
     "name": "stdout",
     "output_type": "stream",
     "text": [
      "Average Marks: 90.0\n",
      "Topper: Name3\n"
     ]
    }
   ],
   "source": [
    "class Student:\n",
    "    def __init__(self, name, roll, marks):\n",
    "        self.name = name\n",
    "        self.roll = roll\n",
    "        self.marks = marks\n",
    "\n",
    "class StudentGroup:\n",
    "    def __init__(self):\n",
    "        self.students = []\n",
    "\n",
    "    def add_student(self, student):\n",
    "        self.students.append(student)\n",
    "\n",
    "    def get_marks(self):\n",
    "        return [student.marks for student in self.students]\n",
    "\n",
    "    def calculate_average(self):\n",
    "        marks = self.get_marks()\n",
    "        return sum(marks) / len(marks) if marks else 0\n",
    "\n",
    "    def find_topper(self):\n",
    "        if not self.students:\n",
    "            return None\n",
    "        topper = max(self.students, key=lambda s: s.marks)\n",
    "        return topper.name\n",
    "\n",
    "# Create student objects\n",
    "student_group = StudentGroup()\n",
    "student_group.add_student(Student(\"Name1\", 1, 90))\n",
    "student_group.add_student(Student(\"Name2\", 2, 80))\n",
    "student_group.add_student(Student(\"Name3\", 3, 100))\n",
    "\n",
    "# Use methods\n",
    "average_marks = student_group.calculate_average()\n",
    "topper = student_group.find_topper()\n",
    "\n",
    "print(\"Average Marks:\", average_marks)\n",
    "print(\"Topper:\", topper)\n"
   ]
  },
  {
   "cell_type": "markdown",
   "metadata": {},
   "source": [
    "## Procedural vs Functional vs Object Oriented Programming\n",
    "\n",
    "| Aspect                  | Procedural Programming                                 | Functional Programming                                    | Object-Oriented Programming (OOP)                  |\n",
    "| ----------------------- | ------------------------------------------------------ | --------------------------------------------------------- | -------------------------------------------------- |\n",
    "| **Basic Concept**       | Sequence of instructions and procedures                | Functions as first-class citizens; no side effects        | Data and functions bundled as objects              |\n",
    "| **Data Handling**       | Data and functions are separate                        | Data is immutable; operations done via functions          | Data and behavior encapsulated in objects          |\n",
    "| **State Management**    | Mutable state, variables updated explicitly            | Avoids mutable state; uses pure functions                 | State stored in objects, managed via methods       |\n",
    "| **Code Organization**   | Functions and procedures                               | Functions and expressions                                 | Classes and objects                                |\n",
    "| **Reusability**         | Limited, reuse via functions                           | High, via function composition and higher-order functions | High, via inheritance, polymorphism, encapsulation |\n",
    "| **Real-World Modeling** | Poor, no concept of real-world entities                | Limited, focuses on data transformation                   | Excellent, models entities as objects              |\n",
    "| **Ease of Debugging**   | Easier for simple tasks                                | Can be harder due to abstractions                         | Easier due to encapsulation and modularity         |\n",
    "| **Typical Use Cases**   | Small scripts, linear tasks                            | Data transformations, parallel processing                 | Large projects, GUI apps, games, simulations       |\n",
    "| **Example Syntax**      | Loops, conditionals, functions                         | `map()`, `filter()`, `reduce()`, lambdas                  | Classes, objects, methods                          |\n",
    "| **Drawbacks**           | Difficult to maintain large code, poor data management | Can be confusing for beginners, debugging harder          | More boilerplate, learning curve for concepts      |\n"
   ]
  },
  {
   "cell_type": "markdown",
   "metadata": {},
   "source": [
    "# 2 Class"
   ]
  },
  {
   "cell_type": "code",
   "execution_count": 2,
   "metadata": {},
   "outputs": [],
   "source": [
    "class ClassName:\n",
    "    # Constructor\n",
    "    def __init__(self, attribute1, attribute2):\n",
    "        self.attribute1 = attribute1\n",
    "        self.attribute2 = attribute2\n",
    "    \n",
    "    # Method\n",
    "    def method_name(self):\n",
    "        pass"
   ]
  },
  {
   "cell_type": "markdown",
   "metadata": {},
   "source": [
    "##### Class is a user defined data type ?\n",
    "- A class lets you create your own custom data type.\n",
    "- Just like Python has built-in types (int, str, list), you can define a class to represent complex things.\n",
    "- It bundles data (attributes) and functions (methods) together.\n",
    "- You can create many objects (instances) of that class, each behaving like that data type."
   ]
  },
  {
   "cell_type": "code",
   "execution_count": null,
   "metadata": {},
   "outputs": [
    {
     "name": "stdout",
     "output_type": "stream",
     "text": [
      "Toyota\n"
     ]
    }
   ],
   "source": [
    "class Car:          # Defining a new data type 'Car'\n",
    "    def __init__(self, model, year):\n",
    "        self.model = model\n",
    "        self.year = year\n",
    "\n",
    "my_car = Car(\"Toyota\", 2020)   # Creating an object of type 'Car'\n",
    "print(my_car.model)            # Accessing data of that type\n",
    "\n",
    "\n",
    "# Here, Car is a new data type created by you (user-defined).\n",
    "# my_car is an object (instance) of this type, just like 5 is an instance of the built-in int type."
   ]
  },
  {
   "cell_type": "markdown",
   "metadata": {},
   "source": [
    "## Constructor (__init__())\n",
    "- __init__ is optional, but useful for setting initial values when creating objects.\n",
    "- Without __init__, you can still create objects and use methods."
   ]
  },
  {
   "cell_type": "code",
   "execution_count": 1,
   "metadata": {},
   "outputs": [
    {
     "name": "stdout",
     "output_type": "stream",
     "text": [
      "Hello!\n",
      "Hello, Alice!\n"
     ]
    }
   ],
   "source": [
    "# Example without __init__()\n",
    "class Person:\n",
    "    def greet(self):\n",
    "        print(\"Hello!\")\n",
    "\n",
    "p = Person()\n",
    "p.greet()  # Output: Hello!\n",
    "\n",
    "# Example with__init__()\n",
    "class Person:\n",
    "    def __init__(self, name):\n",
    "        self.name = name\n",
    "\n",
    "    def greet(self):\n",
    "        print(f\"Hello, {self.name}!\")\n",
    "\n",
    "p = Person(\"Alice\")\n",
    "p.greet()  # Output: Hello, Alice!"
   ]
  },
  {
   "cell_type": "markdown",
   "metadata": {},
   "source": [
    "##### What happens without __init__?\n",
    "- You cannot initialize instance variables automatically when creating an object.\n",
    "- You have to set attributes manually after creating the object.\n",
    "- Objects will have no custom data by default."
   ]
  },
  {
   "cell_type": "code",
   "execution_count": null,
   "metadata": {},
   "outputs": [
    {
     "name": "stdout",
     "output_type": "stream",
     "text": [
      "Hello, Alice!\n",
      "Hello, Alice!\n"
     ]
    }
   ],
   "source": [
    "# Example without __init__\n",
    "class Person:\n",
    "    def greet(self):\n",
    "        print(f\"Hello, {self.name}!\")\n",
    "\n",
    "p = Person()\n",
    "# p.name doesn't exist yet; must set it manually\n",
    "p.name = \"Alice\"\n",
    "p.greet()  # Works fine\n",
    "\n",
    "\n",
    "\n",
    "\n",
    "# Example with __init__\n",
    "class Person:\n",
    "    def __init__(self, name):\n",
    "        self.name = name\n",
    "\n",
    "    def greet(self):\n",
    "        print(f\"Hello, {self.name}!\")\n",
    "\n",
    "p = Person(\"Alice\")\n",
    "p.greet()  # Works directly without manual setup"
   ]
  },
  {
   "cell_type": "markdown",
   "metadata": {},
   "source": [
    "## self\n",
    "- self represents the instance of the class.\n",
    "- allows access to instance attributes and other methods.\n",
    "- It must be the first parameter of any instance method.\n",
    "- Always include self as the first parameter in instance methods, But self is not used with class methods. ⭐\n",
    "- It's not a keyword, just a convention, we can use other name instead of self but need to pass self as a parameter."
   ]
  },
  {
   "cell_type": "code",
   "execution_count": null,
   "metadata": {},
   "outputs": [],
   "source": [
    "# Example with self\n",
    "class Person:\n",
    "    def __init__(self, name):\n",
    "        self.name = name  # Assign to instance attribute\n",
    "\n",
    "    def greet(self):\n",
    "        print(f\"Hello, {self.name}!\")\n",
    "        \n",
    "p = Person(\"Alice\")\n",
    "p.greet()  # Output: Hello, Alice!\n",
    "\n",
    "\n",
    "\n",
    "# Example without self\n",
    "class Person:\n",
    "    def greet():\n",
    "        print(\"Hello!\")\n",
    "\n",
    "p = Person()\n",
    "p.greet()  # Error: greet() takes 0 positional arguments but 1 was given"
   ]
  },
  {
   "cell_type": "markdown",
   "metadata": {},
   "source": [
    "## Variables and Methods"
   ]
  },
  {
   "cell_type": "code",
   "execution_count": null,
   "metadata": {},
   "outputs": [],
   "source": [
    "class Dog:\n",
    "    species = \"Canine\"  # Class variable\n",
    "\n",
    "    def __init__(self, name):\n",
    "        self.name = name  # Instance variable\n",
    "\n",
    "    def bark(self):  # Instance method\n",
    "        print(f\"{self.name} says Woof!\")\n",
    "\n",
    "    @classmethod\n",
    "    def get_species(cls):  # Class method\n",
    "        return cls.species\n",
    "\n",
    "# Create objects\n",
    "dog1 = Dog(\"Buddy\")\n",
    "dog2 = Dog(\"Max\")\n",
    "\n",
    "# Access instance variables\n",
    "print(dog1.name)  # Buddy\n",
    "print(dog2.name)  # Max\n",
    "\n",
    "# Access class variable\n",
    "print(dog1.species)  # Canine\n",
    "print(dog2.species)  # Canine\n",
    "\n",
    "# Call methods\n",
    "dog1.bark()          # Buddy says Woof!\n",
    "print(Dog.get_species())  # Canine\n"
   ]
  },
  {
   "cell_type": "markdown",
   "metadata": {},
   "source": [
    "### Instance Variables and Methods\n",
    "Variables \n",
    "- Belong to each object (instance) of a class.\n",
    "- Hold data unique to that object.\n",
    "- Defined inside methods using self (commonly in __init__).\n",
    "- Different objects can have different values.\n",
    "\n",
    "Methods\n",
    "- Functions defined inside a class that operate on instance variables.\n",
    "- Take self as the first parameter (refers to the calling object).\n",
    "- Can access and modify instance variables."
   ]
  },
  {
   "cell_type": "code",
   "execution_count": null,
   "metadata": {},
   "outputs": [],
   "source": [
    "class Car:\n",
    "    def __init__(self, model, year):\n",
    "        self.model = model        # Instance variable\n",
    "        self.year = year          # Instance variable\n",
    "\n",
    "    def display_info(self):       # Instance method\n",
    "        print(f\"Car Model: {self.model}, Year: {self.year}\")\n",
    "\n",
    "# Create objects (instances)\n",
    "car1 = Car(\"Toyota\", 2020)\n",
    "car2 = Car(\"Honda\", 2022)\n",
    "\n",
    "# Access instance variables and methods\n",
    "car1.display_info()  # Output: Car Model: Toyota, Year: 2020\n",
    "car2.display_info()  # Output: Car Model: Honda, Year: 2022\n"
   ]
  },
  {
   "cell_type": "markdown",
   "metadata": {},
   "source": [
    "### Class Variables and Methods\n",
    "Variables \n",
    "- Shared by all instances of a class.\n",
    "- Defined directly inside the class, outside any methods.\n",
    "- Same value for every object unless overridden.\n",
    "\n",
    "Methods\n",
    "- Methods that work with class variables or class state.\n",
    "- Decorated with @classmethod.\n",
    "- Take cls (the class itself) as the first parameter.\n",
    "- Can be called on the class itself or instances."
   ]
  },
  {
   "cell_type": "code",
   "execution_count": null,
   "metadata": {},
   "outputs": [],
   "source": [
    "class Employee:\n",
    "    company = \"TechCorp\"  # Class variable\n",
    "\n",
    "    def __init__(self, name):\n",
    "        self.name = name   # Instance variable\n",
    "\n",
    "    @classmethod\n",
    "    def get_company(cls):  # Class method\n",
    "        return cls.company\n",
    "\n",
    "# Create objects\n",
    "emp1 = Employee(\"Alice\")\n",
    "emp2 = Employee(\"Bob\")\n",
    "\n",
    "# Access class variable\n",
    "print(emp1.company)      # TechCorp\n",
    "print(emp2.company)      # TechCorp\n",
    "\n",
    "# Call class method\n",
    "print(Employee.get_company())  # TechCorp\n",
    "print(emp1.get_company())       # TechCorp\n"
   ]
  },
  {
   "cell_type": "markdown",
   "metadata": {},
   "source": [
    "##### Is cls is a keyword ?\n",
    "cls is not a keyword in Python.\n",
    "It's just a convention to name the first parameter of a class method that refers to the class itself."
   ]
  },
  {
   "cell_type": "code",
   "execution_count": null,
   "metadata": {},
   "outputs": [],
   "source": [
    "class Example:\n",
    "    @classmethod\n",
    "    def show_class_name(klass):\n",
    "        print(klass.__name__)\n",
    "\n",
    "Example.show_class_name()  # Output: Example\n"
   ]
  },
  {
   "cell_type": "markdown",
   "metadata": {},
   "source": [
    "##### Can class method work on instance variable and methods?\n",
    "No, class methods cannot directly access instance variables or instance methods.\n",
    "\n",
    "Why?\n",
    "Class methods receive the class (cls) as the first argument, not the instance (self).\n",
    "Instance variables and methods belong to individual objects, not the class itself.\n",
    "So, inside a class method, you don't have access to instance-specific data."
   ]
  },
  {
   "cell_type": "code",
   "execution_count": null,
   "metadata": {},
   "outputs": [],
   "source": [
    "# Example class method cannot use instance method directly\n",
    "class Person:\n",
    "    def __init__(self, name):\n",
    "        self.name = name  # Instance variable\n",
    "\n",
    "    def instance_method(self):\n",
    "        print(f\"Instance method called by {self.name}\")\n",
    "\n",
    "    @classmethod\n",
    "    def class_method(cls):\n",
    "        # Can't access self.name or instance_method here directly\n",
    "        print(\"Class method called\")\n",
    "        # The following would cause an error:\n",
    "        # print(self.name)  # ERROR\n",
    "        # self.instance_method()  # ERROR\n",
    "\n",
    "\n",
    "\n",
    "\n",
    "\n",
    "# Example class method can use instance method indirectly\n",
    "class Person:\n",
    "    def __init__(self, name):\n",
    "        self.name = name\n",
    "\n",
    "    def instance_method(self):\n",
    "        print(f\"Instance method called by {self.name}\")\n",
    "\n",
    "    @classmethod\n",
    "    def greet(cls, instance):\n",
    "        print(f\"Hello, {instance.name}!\")\n",
    "        instance.instance_method()\n",
    "\n",
    "p = Person(\"Alice\")\n",
    "Person.greet(p)  # Pass instance to class method\n"
   ]
  },
  {
   "cell_type": "markdown",
   "metadata": {},
   "source": [
    "##### Can instance method work on class variable and methods\n",
    "Yes! Instance methods can access both class variables and class methods.\n",
    "\n",
    "Why?\n",
    "Instance methods receive self (the instance), but the instance also knows about the class it belongs to.So, inside an instance method, you can:\n",
    "\n",
    "Access class variables via self.__class__.variable or ClassName.variable\n",
    "\n",
    "Call class methods via self.__class__.method() or ClassName.method()"
   ]
  },
  {
   "cell_type": "code",
   "execution_count": null,
   "metadata": {},
   "outputs": [],
   "source": [
    "class Dog:\n",
    "    species = \"Canine\"  # Class variable\n",
    "\n",
    "    def __init__(self, name):\n",
    "        self.name = name  # Instance variable\n",
    "\n",
    "    @classmethod\n",
    "    def get_species(cls):\n",
    "        return cls.species\n",
    "\n",
    "    def describe(self):\n",
    "        # Access class variable\n",
    "        print(f\"{self.name} is a {self.species}\")\n",
    "\n",
    "        # Call class method\n",
    "        print(f\"Species from class method: {self.get_species()}\")\n",
    "\n",
    "\n",
    "d = Dog(\"Buddy\")\n",
    "d.describe()\n",
    "\n",
    "# Output:\n",
    "# Buddy is a Canine\n",
    "# Species from class method: Canine\n"
   ]
  },
  {
   "cell_type": "markdown",
   "metadata": {},
   "source": [
    "#### @classmethod\n",
    "\n",
    "- It's a decorator used to define a method that belongs to the class, not to any particular instance.\n",
    "- The method receives the class itself as the first argument, usually named cls.\n",
    "- Can be called on the class itself or on instances.\n",
    "- Can access or modify class variables.\n",
    "- Cannot access instance variables directly (no self).\n",
    "- Useful for factory methods or methods that affect the class as a whole."
   ]
  },
  {
   "cell_type": "code",
   "execution_count": null,
   "metadata": {},
   "outputs": [],
   "source": [
    "class Person:\n",
    "    species = \"Homo sapiens\"  # Class variable\n",
    "\n",
    "    def __init__(self, name):\n",
    "        self.name = name\n",
    "\n",
    "    @classmethod\n",
    "    def get_species(cls):\n",
    "        return cls.species\n",
    "\n",
    "# Call on class\n",
    "print(Person.get_species())  # Output: Homo sapiens\n",
    "\n",
    "# Call on instance\n",
    "p = Person(\"Alice\")\n",
    "print(p.get_species())       # Output: Homo sapiens\n"
   ]
  },
  {
   "cell_type": "markdown",
   "metadata": {},
   "source": [
    "### Static Variables and Methods\n",
    "Variables\n",
    "- Actually, Python does not have a specific \"static variable\" concept like some other languages (e.g., Java).\n",
    "- But the closest equivalent is a class variable — shared by all instances.\n",
    "- So, static variables = class variables (defined inside class, outside methods).\n",
    "\n",
    "Methods\n",
    "- Defined inside a class using the @staticmethod decorator.\n",
    "- Do not take self or cls as the first parameter.\n",
    "- Behave like regular functions but belong to the class's namespace.\n",
    "- Cannot access instance variables (self) or class variables (cls) directly.\n",
    "- Useful for utility functions related to the class but not dependent on instance or class data."
   ]
  },
  {
   "cell_type": "code",
   "execution_count": null,
   "metadata": {},
   "outputs": [],
   "source": [
    "class Student:\n",
    "    school_name = \"ABC High School\"  # static/class variable\n",
    "\n",
    "    def __init__(self, name):\n",
    "        self.name = name  # instance variable\n",
    "\n",
    "s1 = Student(\"John\")\n",
    "s2 = Student(\"Jane\")\n",
    "\n",
    "print(s1.school_name)  # ABC High School\n",
    "print(s2.school_name)  # ABC High School\n",
    "\n",
    "Student.school_name = \"XYZ School\"  # change for all instances\n",
    "\n",
    "print(s1.school_name)  # XYZ School\n",
    "print(s2.school_name)  # XYZ School\n"
   ]
  },
  {
   "cell_type": "markdown",
   "metadata": {},
   "source": [
    "##### Can static method access class variable/method and instance variable/method ?\n",
    "- Static methods don't receive self (instance) or cls (class) automatically.\n",
    "- They behave like regular functions inside the class namespace.\n",
    "- To access class or instance data, you must explicitly pass the object or class."
   ]
  },
  {
   "cell_type": "code",
   "execution_count": null,
   "metadata": {},
   "outputs": [],
   "source": [
    "class MyClass:\n",
    "    class_var = 10\n",
    "\n",
    "    def __init__(self, instance_var):\n",
    "        self.instance_var = instance_var\n",
    "\n",
    "    @staticmethod\n",
    "    def static_method(cls_ref=None, instance_ref=None):\n",
    "        if cls_ref:\n",
    "            print(f\"Class variable: {cls_ref.class_var}\")\n",
    "        if instance_ref:\n",
    "            print(f\"Instance variable: {instance_ref.instance_var}\")\n",
    "\n",
    "obj = MyClass(5)\n",
    "MyClass.static_method(cls_ref=MyClass, instance_ref=obj)\n",
    "\n",
    "# Output \n",
    "# Class variable: 10\n",
    "# Instance variable: 5"
   ]
  },
  {
   "cell_type": "markdown",
   "metadata": {},
   "source": [
    "### Class vs Instance vs Static Methods\n",
    "\n",
    "| Feature                            | Instance Method                | Class Method                                 | Static Method                                                                |\n",
    "| ---------------------------------- | ------------------------------ | -------------------------------------------- | ---------------------------------------------------------------------------- |\n",
    "| **First Parameter**                | `self` (instance of the class) | `cls` (class itself)                         | No default first parameter                                                   |\n",
    "| **Can access instance variables?** | Yes                            | No (unless instance passed explicitly)       | No (unless instance passed explicitly)                                       |\n",
    "| **Can access class variables?**    | Yes (via `self` or class name) | Yes (via `cls`)                              | No (unless class passed explicitly)                                          |\n",
    "| **Can access instance methods?**   | Yes                            | No (unless instance passed explicitly)       | No (unless instance passed explicitly)                                       |\n",
    "| **Can access class methods?**      | Yes (via `self` or class name) | Yes                                          | No (unless class passed explicitly)                                          |\n",
    "| **Typical usage**                  | Work with object-specific data | Work with class-wide data or factory methods | Utility functions related to class but independent of class or instance data |\n",
    "| **Decorator used**                 | None (default)                 | `@classmethod`                               | `@staticmethod`                                                              |\n",
    "| **Called on**                      | Instance of the class          | Class itself or instance                     | Class itself or instance                                                     |\n",
    "| **Example of definition**          | `def method(self):`            | `@classmethod\\ndef method(cls):`             | `@staticmethod\\ndef method():`                                               |\n",
    "| **Can modify instance state?**     | Yes                            | No                                           | No                                                                           |\n",
    "| **Can modify class state?**        | Yes (via `self.__class__`)     | Yes                                          | No                                                                           |\n"
   ]
  },
  {
   "cell_type": "markdown",
   "metadata": {},
   "source": [
    "### Static Method vs Private Method Inside a Method\n",
    "\n",
    "| Aspect                            | Static Method                                              | Private Method (inside method)                                                    |\n",
    "| --------------------------------- | ---------------------------------------------------------- | --------------------------------------------------------------------------------- |\n",
    "| **Access to instance/class data** | No — can't access `self` or `cls` automatically            | Yes — can access instance (`self`) or class (`cls`) data                          |\n",
    "| **Purpose**                       | Utility/helper functions unrelated to instance/class state | Internal logic that supports main methods, usually related to instance/class data |\n",
    "| **Encapsulation**                 | Public by default (unless named with underscore)           | Usually private (named with underscore), hides implementation details             |\n",
    "| **Reusability**                   | Can be reused independently anywhere in the class          | Limited reuse, typically only called inside class methods                         |\n",
    "| **Readability**                   | Clear, standalone functions inside class namespace         | Keeps complex logic organized and hidden inside class                             |\n",
    "| **Calling**                       | Called via class or instance without requiring state       | Called only inside instance or class methods                                      |\n",
    "| **Testing**                       | Easier to test as independent function                     | Tested indirectly through public methods                                          |\n"
   ]
  },
  {
   "cell_type": "markdown",
   "metadata": {},
   "source": [
    "# Object\n",
    "- An object is a specific instance of a class.\n",
    "- It represents a real-world entity with data (attributes) and behavior (methods) defined by its class.\n",
    "- When you create an object, you are creating something based on the blueprint (class).\n",
    "- Everthing in python is an object"
   ]
  },
  {
   "cell_type": "code",
   "execution_count": null,
   "metadata": {},
   "outputs": [],
   "source": [
    "class Dog:\n",
    "    def __init__(self, name, age):\n",
    "        self.name = name\n",
    "        self.age = age\n",
    "\n",
    "    def bark(self):\n",
    "        print(f\"{self.name} says Woof!\")\n",
    "\n",
    "# Create an object of class Dog\n",
    "my_dog = Dog(\"Buddy\", 3)\n",
    "\n",
    "# Using object’s attributes and methods\n",
    "print(my_dog.name)  # Output: Buddy\n",
    "my_dog.bark()      # Output: Buddy says Woof!\n",
    "\n",
    "# Here, Dog is the class (blueprint).\n",
    "# my_dog is an object (instance) of that class with specific data (name=\"Buddy\", age=3)."
   ]
  },
  {
   "cell_type": "markdown",
   "metadata": {},
   "source": [
    "## Object Literal\n",
    "- In Python, object literal usually means directly creating an object using literal syntax without explicitly calling a class constructor.\n",
    "- For some built-in types, Python provides literal syntax to create objects quickly.\n",
    "\n",
    "Notes:\n",
    "- Literal syntax is the most direct, common way to create objects.\n",
    "- Class syntax uses constructors (class calls) which can convert or create objects.\n",
    "- Some types (like bytearray) have no literal syntax.\n",
    "- None is a special singleton and has no class constructor usage.\n",
    "- Literals exist mainly for built-in types.\n",
    "\n",
    "| Object Type      | Literal Syntax      | Class Syntax                                    | Description                                            |\n",
    "| ---------------- | ------------------- | ----------------------------------------------- | ------------------------------------------------------ |\n",
    "| **Integer**      | `42`                | `int(42)`                                       | Whole numbers, immutable                               |\n",
    "| **Float**        | `3.14`              | `float(3.14)`                                   | Floating-point numbers, immutable                      |\n",
    "| **String**       | `\"hello\"` or `'hi'` | `str(\"hello\")`                                  | Sequence of characters, immutable                      |\n",
    "| **List**         | `[1, 2, 3]`         | `list([1, 2, 3])`                               | Ordered, mutable sequence                              |\n",
    "| **Tuple**        | `(1, 2, 3)`         | `tuple((1, 2, 3))`                              | Ordered, immutable sequence                            |\n",
    "| **Dictionary**   | `{\"key\": \"value\"}`  | `dict(key=\"value\")` or `dict({\"key\": \"value\"})` | Key-value pairs, mutable                               |\n",
    "| **Set**          | `{1, 2, 3}`         | `set([1, 2, 3])`                                | Unordered collection of unique items, mutable          |\n",
    "| **Boolean**      | `True`, `False`     | `bool(True)`                                    | True or False values                                   |\n",
    "| **Bytes**        | `b'abc'`            | `bytes([97, 98, 99])`                           | Immutable byte sequences                               |\n",
    "| **Bytearray**    | *No literal syntax* | `bytearray([97, 98, 99])`                       | Mutable byte sequences                                 |\n",
    "| **NoneType**     | `None`              | *No constructor*                                | Represents absence of a value                          |\n",
    "| **Complex**      | `3+4j`              | `complex(3, 4)`                                 | Complex numbers                                        |\n",
    "| **User-defined** | *No literal syntax* | `MyClass()`                                     | Objects created from user-defined classes (blueprints) |\n"
   ]
  },
  {
   "cell_type": "markdown",
   "metadata": {},
   "source": [
    "# Encapsulation\n",
    "- Encapsulation means hiding the internal details (data/implementation) of a class from the outside world.\n",
    "- It protects object's data by restricting direct access.\n",
    "- Access is controlled via methods (getters/setters) or by accesss modifiers (private, protected, public)."
   ]
  },
  {
   "cell_type": "markdown",
   "metadata": {},
   "source": [
    "## Access Modifiers\n",
    "\n",
    "\n",
    "\n",
    "| Aspect                    | Public                                       | Protected                                                 | Private                                                           |\n",
    "| ------------------------- | -------------------------------------------- | --------------------------------------------------------- | ----------------------------------------------------------------- |\n",
    "| **What it is**            | Accessible from anywhere                     | Intended for internal use only                            | Strictly hidden from outside class                                |\n",
    "| **Naming Convention**     | No underscore                                | Single underscore `_`                                     | Double underscore `__` (name mangled)                             |\n",
    "| **Applies to**            | Variables, Methods, Classes                  | Variables, Methods                                        | Variables, Methods                                                |\n",
    "| **Access Level**          | Fully accessible                             | Accessible inside class & subclasses; discouraged outside | Not accessible outside the class directly                         |\n",
    "| **Name Mangling**         | No                                           | No                                                        | Yes (prefixed internally with `_ClassName`)                       |\n",
    "| **Use Case**              | Public API, general attributes               | Internal use within class & subclasses; \"soft\" protection | Strong encapsulation and data hiding                              |\n",
    "| **Access from Outside**   | Allowed                                      | Possible but discouraged                                  | Not directly accessible                                           |\n",
    "| **Example Variable**      | `self.name`                                  | `self._department`                                        | `self.__salary`                                                   |\n",
    "| **Example Method**        | `def get_name(self):`                        | `def _calculate_tax(self):`                               | `def __calculate_bonus(self):`                                    |\n",
    "| **Access in Subclass**    | Fully accessible                             | Accessible                                                | Name mangled; accessible via `_ClassName__member` but discouraged |\n",
    "| **Can be Used on Class?** | Yes (class variables, methods)               | Yes (usually instance vars/methods)                       | Yes (mostly instance vars/methods)                                |\n",
    "| **Enforced by Python?**   | No (just convention)                         | No (just convention)                                      | Yes (name mangling enforces hiding)                               |\n",
    "| **Example Usage**         | Public interface methods, general attributes | Internal helper methods, semi-private data                | Sensitive data, internal logic hiding                             |\n",
    "| **Benefits**              | Easy access and use                          | Avoid accidental access/modification                      | Protects sensitive data, avoids name clashes                      |\n",
    "| **Drawbacks**             | No protection; risk of accidental changes    | Soft protection only; can still be accessed               | More complex access; can be bypassed with name mangling           |\n"
   ]
  },
  {
   "cell_type": "code",
   "execution_count": null,
   "metadata": {},
   "outputs": [],
   "source": [
    "class Employee:\n",
    "    def __init__(self, name, salary):\n",
    "        self.name = name            # public attribute\n",
    "        self._department = \"HR\"     # protected attribute (single underscore)\n",
    "        self.__salary = salary      # private attribute (name mangled)\n",
    "\n",
    "    def get_salary(self):\n",
    "        return self.__salary        # public getter method for private attribute\n",
    "\n",
    "    def set_salary(self, amount):\n",
    "        if amount > 0:\n",
    "            self.__salary = amount  # public setter method for private attribute\n",
    "\n",
    "    def _show_department(self):     # protected method (single underscore)\n",
    "        print(f\"Department: {self._department}\")\n",
    "\n",
    "    def __calculate_bonus(self):    # private method (double underscore)\n",
    "        bonus = self.__salary * 0.10\n",
    "        print(f\"Bonus: {bonus}\")\n",
    "\n",
    "    def display_employee(self):\n",
    "        print(f\"Name: {self.name}\")\n",
    "        self._show_department()    # call protected method\n",
    "        self.__calculate_bonus()   # call private method\n",
    "\n",
    "# Usage\n",
    "e = Employee(\"Alice\", 5000)\n",
    "print(e.name)            # Accessible public attribute\n",
    "print(e.get_salary())    # Access private attribute via public getter\n",
    "\n",
    "e.display_employee()\n",
    "\n",
    "# Accessing protected and private members directly (not recommended)\n",
    "print(e._department)     # Works but should be avoided (protected)\n",
    "# print(e.__salary)      # Error: private attribute (name mangled)\n",
    "# e.__calculate_bonus()  # Error: private method\n",
    "\n",
    "# Accessing private attribute using name mangling (not recommended)\n",
    "print(e._Employee__salary)  # Works but breaks encapsulation\n"
   ]
  },
  {
   "cell_type": "markdown",
   "metadata": {},
   "source": [
    "## Getters and Setters\n",
    "\n",
    "What?\n",
    "- Getters: Methods used to access (get) the value of a private attribute.\n",
    "- Setters: Methods used to modify (set) the value of a private attribute safely.\n",
    "\n",
    "Why?\n",
    "- To control access to private variables.\n",
    "- To add validation before changing a value.\n",
    "- To maintain encapsulation."
   ]
  },
  {
   "cell_type": "code",
   "execution_count": null,
   "metadata": {},
   "outputs": [],
   "source": [
    "class Person:\n",
    "    def __init__(self, age):\n",
    "        self.__age = age  # private variable\n",
    "\n",
    "    def get_age(self):\n",
    "        return self.__age\n",
    "\n",
    "    def set_age(self, age):\n",
    "        if age > 0:\n",
    "            self.__age = age\n",
    "        else:\n",
    "            print(\"Invalid age\")\n",
    "\n",
    "p = Person(25)\n",
    "print(p.get_age())   # Access via getter\n",
    "p.set_age(30)        # Set via setter\n",
    "print(p.get_age())\n",
    "p.set_age(-5)        # Invalid age, setter prevents change\n"
   ]
  },
  {
   "cell_type": "markdown",
   "metadata": {},
   "source": [
    "### @property\n",
    "- Cleaner, more elegant way to define getters and setters.\n",
    "- Access like an attribute but actually calls methods."
   ]
  },
  {
   "cell_type": "code",
   "execution_count": null,
   "metadata": {},
   "outputs": [],
   "source": [
    "class Person:\n",
    "    def __init__(self, age):\n",
    "        self.__age = age\n",
    "\n",
    "    @property\n",
    "    def age(self):\n",
    "        return self.__age\n",
    "\n",
    "    @age.setter\n",
    "    def age(self, age):\n",
    "        if age > 0:\n",
    "            self.__age = age\n",
    "        else:\n",
    "            print(\"Invalid age\")\n",
    "\n",
    "p = Person(25)\n",
    "print(p.age)    # Calls getter\n",
    "p.age = 30      # Calls setter\n",
    "print(p.age)\n",
    "p.age = -5      # Invalid age, setter prevents change"
   ]
  },
  {
   "cell_type": "markdown",
   "metadata": {},
   "source": [
    "# Abstraction"
   ]
  },
  {
   "cell_type": "code",
   "execution_count": null,
   "metadata": {},
   "outputs": [],
   "source": [
    "from abc import ABC, abstractmethod\n",
    "\n",
    "class Shape(ABC):\n",
    "    # Abstract method - must be overridden\n",
    "    @abstractmethod\n",
    "    def area(self):\n",
    "        pass\n",
    "\n",
    "    # Abstract method with another contract\n",
    "    @abstractmethod\n",
    "    def perimeter(self):\n",
    "        pass\n",
    "\n",
    "    # Regular method - concrete implementation shared by all shapes\n",
    "    def describe(self):\n",
    "        print(\"This is a geometric shape.\")\n",
    "\n",
    "    # Optional: static method related to shapes\n",
    "    @staticmethod\n",
    "    def shape_type():\n",
    "        print(\"Generic Shape\")\n",
    "\n",
    "    # Optional: class method\n",
    "    @classmethod\n",
    "    def info(cls):\n",
    "        print(f\"This is a class for {cls.__name__}.\")\n",
    "\n",
    "class Circle(Shape):\n",
    "    def __init__(self, radius):\n",
    "        self.radius = radius  # instance variable\n",
    "\n",
    "    # Override abstract method area()\n",
    "    def area(self):\n",
    "        return 3.1416 * (self.radius ** 2)\n",
    "\n",
    "    # Override abstract method perimeter()\n",
    "    def perimeter(self):\n",
    "        return 2 * 3.1416 * self.radius\n",
    "\n",
    "    # Optionally override describe() or use as-is\n",
    "    def describe(self):\n",
    "        print(f\"This is a circle with radius {self.radius}.\")\n",
    "\n",
    "    # Example of private method (encapsulation)\n",
    "    def __calculate_diameter(self):\n",
    "        return 2 * self.radius\n",
    "\n",
    "    # Public method to access private method\n",
    "    def get_diameter(self):\n",
    "        return self.__calculate_diameter()\n",
    "\n",
    "# Usage\n",
    "circle = Circle(5)\n",
    "\n",
    "print(\"Area:\", circle.area())              # Implemented abstract method\n",
    "print(\"Perimeter:\", circle.perimeter())    # Implemented abstract method\n",
    "circle.describe()                          # Overridden regular method\n",
    "print(\"Diameter:\", circle.get_diameter())  # Accessing private method via public method\n",
    "Circle.shape_type()                        # Static method from base class\n",
    "Circle.info()                             # Class method from base class\n"
   ]
  },
  {
   "cell_type": "markdown",
   "metadata": {},
   "source": [
    "## Abstraction vs Encapsulation\n",
    "\n",
    "- Abstraction is like the dashboard of a car — you see the speed, fuel level, and controls but not the engine's internal working.\n",
    "- Encapsulation is like the car's engine parts inside the hood — hidden and protected so you don't tamper with them directly.\n",
    "\n",
    "| Aspect                 | Abstraction                                                            | Encapsulation                                                                 |\n",
    "| ---------------------- | ---------------------------------------------------------------------- | ----------------------------------------------------------------------------- |\n",
    "| **Definition**         | Hiding complex implementation details; showing only essential features | Hiding internal data and restricting direct access                            |\n",
    "| **Focus**              | *What* an object does                                                  | *How* data is hidden and protected                                            |\n",
    "| **Purpose**            | Reduce complexity, provide a clear interface                           | Protect data from unauthorized access or modification                         |\n",
    "| **How it is achieved** | Using abstract classes, interfaces, and abstract methods               | Using private/protected variables and methods (e.g., with `_` or `__`)        |\n",
    "| **Example**            | Showing a `drive()` method for a `Car` without exposing engine details | Making engine variables private so they can't be accessed or changed directly |\n",
    "| **Scope**              | More about design and user perspective                                 | More about data security and integrity                                        |\n",
    "| **User Interaction**   | Users see only essential operations                                    | Users can't directly access or change hidden data                             |\n",
    "| **Implementation**     | Abstract classes, interfaces, abstract methods                         | Access modifiers, getter/setter methods, properties                           |\n"
   ]
  },
  {
   "cell_type": "markdown",
   "metadata": {},
   "source": [
    "##### Can abstract/interface class have abstract properties also?\n",
    "\n",
    "Yes! In Python, abstract or interface (typically an abstract base class with only abstract methods) classes can have abstract properties.\n",
    "\n",
    "- Defined using @property combined with @abstractmethod.\n",
    "- Forces subclasses to implement the property getter.\n",
    "- You can also define abstract setters and deleters.\n",
    "- Useful when you want subclasses to implement properties (not just methods)."
   ]
  },
  {
   "cell_type": "code",
   "execution_count": null,
   "metadata": {},
   "outputs": [],
   "source": [
    "from abc import ABC, abstractmethod\n",
    "\n",
    "class Vehicle(ABC):\n",
    "    @property\n",
    "    @abstractmethod\n",
    "    def speed(self):\n",
    "        pass\n",
    "\n",
    "    @speed.setter\n",
    "    @abstractmethod\n",
    "    def speed(self, value):\n",
    "        pass\n",
    "\n",
    "class Car(Vehicle):\n",
    "    def __init__(self):\n",
    "        self._speed = 0\n",
    "\n",
    "    @property\n",
    "    def speed(self):\n",
    "        return self._speed\n",
    "\n",
    "    @speed.setter\n",
    "    def speed(self, value):\n",
    "        if value >= 0:\n",
    "            self._speed = value\n",
    "        else:\n",
    "            raise ValueError(\"Speed cannot be negative\")\n",
    "\n",
    "car = Car()\n",
    "car.speed = 50\n",
    "print(car.speed)  # Output: 50\n"
   ]
  },
  {
   "cell_type": "markdown",
   "metadata": {},
   "source": [
    "## Interface\n",
    "- An interface defines a contract: a set of method signatures that a class must implement.\n",
    "- It specifies what methods a class should have but not how they work.\n",
    "- Ensures consistency across different classes.\n",
    "- Interfaces provide polymorphism — different classes can be used interchangeably if they implement the same interface.\n",
    "- Python does not have explicit interface keyword like Java or C#.\n",
    "- Interfaces are usually created using: Abstract Base Classes (ABC) with only abstract methods Or simply by duck typing (if it walks like a duck and quacks like a duck).\n"
   ]
  },
  {
   "cell_type": "code",
   "execution_count": null,
   "metadata": {},
   "outputs": [],
   "source": [
    "from abc import ABC, abstractmethod\n",
    "\n",
    "class VehicleInterface(ABC):\n",
    "    @abstractmethod\n",
    "    def start_engine(self):\n",
    "        pass\n",
    "\n",
    "    @abstractmethod\n",
    "    def stop_engine(self):\n",
    "        pass\n",
    "\n",
    "class Car(VehicleInterface):\n",
    "    def start_engine(self):\n",
    "        print(\"Car engine started\")\n",
    "\n",
    "    def stop_engine(self):\n",
    "        print(\"Car engine stopped\")\n",
    "\n",
    "class Motorcycle(VehicleInterface):\n",
    "    def start_engine(self):\n",
    "        print(\"Motorcycle engine started\")\n",
    "\n",
    "    def stop_engine(self):\n",
    "        print(\"Motorcycle engine stopped\")\n",
    "\n",
    "# Usage\n",
    "vehicles = [Car(), Motorcycle()]\n",
    "\n",
    "for v in vehicles:\n",
    "    v.start_engine()\n",
    "    v.stop_engine()\n"
   ]
  },
  {
   "cell_type": "markdown",
   "metadata": {},
   "source": [
    "##### Interfaces are usually created using:  by duck typing (if it walks like a duck and quacks like a duck) what does this mean?\n",
    "\n",
    "- When we say interfaces can be created by duck typing (if it walks like a duck and quacks like a duck), here's what it means:\n",
    "\n",
    "Explanation of Duck Typing as Interface in Python\n",
    "- Python doesn't force you to declare an explicit interface or inherit from a base class.\n",
    "- Instead, any object that implements the required methods and properties can be used — no matter what its actual type or class is.\n",
    "- This means you don't check if an object is a specific class or implements a formal interface — you just check if it behaves as needed.\n",
    "- The behavior (methods & attributes) defines the \"interface\", not inheritance or explicit declaration."
   ]
  },
  {
   "cell_type": "markdown",
   "metadata": {},
   "source": [
    "## Abstract class vs Interface\n",
    "- Interface = Pure abstract class with only abstract methods — forces subclasses to implement all methods.\n",
    "- Abstract Class = Can have partial implementation + abstract methods — allows code reuse.\n",
    "\n",
    "| Aspect                   | Interface                                                           | Abstract Class                                                                |\n",
    "| ------------------------ | ------------------------------------------------------------------- | ----------------------------------------------------------------------------- |\n",
    "| **Purpose**              | Define a contract (only method signatures)                          | Provide a common base with some implemented and some abstract methods         |\n",
    "| **Implementation**       | Only abstract methods (no code)                                     | Can have both abstract and concrete (implemented) methods                     |\n",
    "| **Multiple Inheritance** | Supports multiple interfaces                                        | Supports multiple inheritance, but typically used as base class               |\n",
    "| **State/Variables**      | Usually no instance variables                                       | Can have instance variables and state                                         |\n",
    "| **Instantiation**        | Cannot instantiate (only subclassed)                                | Cannot instantiate (if any abstract methods present)                          |\n",
    "| **Use case**             | When only method signatures are needed                              | When you want to share code and enforce method implementation                 |\n",
    "| **Syntax in Python**     | Usually via `abc` module with only abstract methods                 | Via `abc` module with abstract and concrete methods                           |\n",
    "| **Example**              | `class VehicleInterface(ABC): @abstractmethod def move(self): pass` | `class Vehicle(ABC): def move(self): pass; def stop(self): print(\"Stopping\")` |\n"
   ]
  },
  {
   "cell_type": "code",
   "execution_count": null,
   "metadata": {},
   "outputs": [],
   "source": [
    "from abc import ABC, abstractmethod\n",
    "\n",
    "# Interface-like abstract base class\n",
    "class InterfaceExample(ABC):\n",
    "    @abstractmethod\n",
    "    def method1(self):\n",
    "        pass\n",
    "\n",
    "    @abstractmethod\n",
    "    def method2(self):\n",
    "        pass\n",
    "\n",
    "# Abstract class with partial implementation\n",
    "class AbstractClassExample(ABC):\n",
    "    def implemented_method(self):\n",
    "        print(\"This method is implemented.\")\n",
    "\n",
    "    @abstractmethod\n",
    "    def abstract_method(self):\n",
    "        pass\n"
   ]
  },
  {
   "cell_type": "markdown",
   "metadata": {},
   "source": [
    "## Concrete Class\n",
    "- A concrete class is a regular class that can be instantiated (you can create objects from it).\n",
    "- It provides complete implementations of all its methods (no abstract methods).\n",
    "- Unlike abstract classes, concrete classes don't have any methods left unimplemented.\n",
    "- They represent real, usable objects in your program."
   ]
  },
  {
   "cell_type": "code",
   "execution_count": null,
   "metadata": {},
   "outputs": [],
   "source": [
    "class Animal:\n",
    "    def speak(self):\n",
    "        print(\"Animal speaks\")\n",
    "\n",
    "class Dog(Animal):\n",
    "    def speak(self):\n",
    "        print(\"Bark!\")\n",
    "\n",
    "dog = Dog()    # Dog is a concrete class\n",
    "dog.speak()   # Output: Bark!\n"
   ]
  },
  {
   "cell_type": "markdown",
   "metadata": {},
   "source": [
    "\n"
   ]
  },
  {
   "cell_type": "markdown",
   "metadata": {},
   "source": [
    "# Polymorphism\n",
    "\n",
    "What?\n",
    "- Polymorphism means \"many forms\".\n",
    "- It allows objects of different classes to be treated as objects of a common superclass.\n",
    "- The same operation or method can behave differently on different classes.\n",
    "- Supports code reusability and flexible interfaces.\n",
    "\n",
    "Types of Polymorphism in Python:\n",
    "- Dynamic Polymorphism / Runtime Polymorphism\n",
    "- Operator Overloading (Same operator behaves differently)"
   ]
  },
  {
   "cell_type": "markdown",
   "metadata": {},
   "source": [
    "## Dynamic Polymorphism / Runtime Polymorphism\n",
    "\n",
    "- Runtime Polymorphism means deciding which method to invoke during program execution (runtime), not at compile time.\n",
    "- Achieved in Python mainly through method overriding, When a subclass provides its own version of a method, Python calls the subclass's method, even if the object is referenced by a parent class variable.\n",
    "- Supports dynamic method dispatch."
   ]
  },
  {
   "cell_type": "code",
   "execution_count": null,
   "metadata": {},
   "outputs": [],
   "source": [
    "class Animal:\n",
    "    def speak(self):\n",
    "        print(\"Animal speaks\")\n",
    "\n",
    "class Dog(Animal):\n",
    "    def speak(self):\n",
    "        print(\"Bark\")\n",
    "\n",
    "class Cat(Animal):\n",
    "    def speak(self):\n",
    "        print(\"Meow\")\n",
    "\n",
    "def animal_sound(animal):\n",
    "    animal.speak()  # Which speak() is called depends on the actual object\n",
    "\n",
    "a = Dog()\n",
    "b = Cat()\n",
    "\n",
    "animal_sound(a)  # Output: Bark\n",
    "animal_sound(b)  # Output: Meow\n"
   ]
  },
  {
   "cell_type": "markdown",
   "metadata": {},
   "source": [
    "### Method Overriding (Runtime Polymorphism)\n",
    "\n",
    "What?\n",
    "- Method Overriding means a subclass provides its own version of a method already defined in its parent class.\n",
    "- It allows the subclass to change or extend the behavior of the inherited method.\n",
    "- The method name and parameters remain the same.\n",
    "- Supports runtime polymorphism.\n",
    "\n",
    "Why?\n",
    "- To customize or modify behavior inherited from the parent class.\n",
    "- To implement specific functionality for a subclass."
   ]
  },
  {
   "cell_type": "code",
   "execution_count": null,
   "metadata": {},
   "outputs": [],
   "source": [
    "class Bird:\n",
    "    def sound(self):\n",
    "        print(\"Some generic bird sound\")\n",
    "\n",
    "class Sparrow(Bird):\n",
    "    def sound(self):\n",
    "        print(\"Chirp chirp\")\n",
    "\n",
    "class Crow(Bird):\n",
    "    def sound(self):\n",
    "        print(\"Caw caw\")\n",
    "\n",
    "def make_sound(bird):\n",
    "    bird.sound()\n",
    "\n",
    "sparrow = Sparrow()\n",
    "crow = Crow()\n",
    "\n",
    "make_sound(sparrow)  # Output: Chirp chirp\n",
    "make_sound(crow)     # Output: Caw caw\n",
    "\n",
    "\n",
    "# Same method sound() behaves differently depending on object type."
   ]
  },
  {
   "cell_type": "markdown",
   "metadata": {},
   "source": [
    "## Static polymorphism / Compile time polymorphism\n",
    "\n",
    "What?\n",
    "- Achieved using Method Overloading.\n",
    "- The decision about which method to invoke is made at compile time.\n",
    "- Happens when there are multiple methods with the same name but different parameters (number or types).\n",
    "- Common in statically typed languages like Java or C++.\n",
    "\n",
    "Does Python support Compile-time Polymorphism?\n",
    "- No. Python does NOT support true compile-time polymorphism because:\n",
    "- Python is dynamically typed.\n",
    "- You cannot define multiple methods with the same name but different signatures in the same class.\n",
    "- The last defined method overrides earlier ones.\n",
    "\n",
    "How to simulate it in Python?\n",
    "- Use default arguments, *args, **kwargs to handle multiple cases in a single method."
   ]
  },
  {
   "cell_type": "markdown",
   "metadata": {},
   "source": [
    "### Method Overloading \n",
    "\n",
    "What?\n",
    "- Method overloading means having multiple methods with the same name but different parameters (number or type) in the same class.\n",
    "- It allows the same method to behave differently based on input.\n",
    "\n",
    "Does Python support method overloading?\n",
    "- No built-in method overloading like Java or C++.\n",
    "- In Python, last defined method with the same name overrides earlier ones.\n",
    "- But you can achieve similar behavior using: Default arguments, Variable-length arguments (*args, **kwargs) and Type checking inside the method"
   ]
  },
  {
   "cell_type": "code",
   "execution_count": null,
   "metadata": {},
   "outputs": [],
   "source": [
    "class MathOperations:\n",
    "    def add(self, *args):\n",
    "        return sum(args)\n",
    "\n",
    "obj = MathOperations()\n",
    "print(obj.add(2, 3))        # Output: 5\n",
    "print(obj.add(2, 3, 4, 5))  # Output: 14"
   ]
  },
  {
   "cell_type": "markdown",
   "metadata": {},
   "source": [
    "# Inheritance\n",
    "- Inheritance allows a class (child/subclass) to inherit attributes and methods from another class (parent/superclass).\n",
    "- It helps reuse code, extend functionality, and create a hierarchical relationship between classes.\n",
    "- The child class can have its own methods and override parent methods.\n",
    "- Parent class: The class being inherited from.\n",
    "- Child class: The class that inherits.\n",
    "- Use parentheses () in class definition to inherit: class Child(Parent):\n",
    "- Child class inherits all public and protected members from the parent. ⭐\n",
    "- Child can add new attributes/methods or override existing ones.\n",
    "- Supports code reuse and polymorphism.\n",
    "\n",
    "Types of inheritance:\n",
    "- Single Inheritance: One parent, one child.\n",
    "- Multiple Inheritance: One child, multiple parents.\n",
    "- Multilevel Inheritance: Parent-child-grandchild.\n",
    "- Hierarchical Inheritance: Multiple children from one parent.\n",
    "- Hybrid Inheritance: Combination of multiple inheritance types\n"
   ]
  },
  {
   "cell_type": "code",
   "execution_count": null,
   "metadata": {},
   "outputs": [],
   "source": [
    "class Animal:          # Parent class\n",
    "    def speak(self):\n",
    "        print(\"Animal speaks\")\n",
    "\n",
    "class Dog(Animal):     # Child class inherits Animal\n",
    "    def speak(self):  # Overriding method\n",
    "        print(\"Dog barks\")\n",
    "\n",
    "class Cat(Animal):     # Another child class\n",
    "    def speak(self):\n",
    "        print(\"Cat meows\")\n",
    "\n",
    "dog = Dog()\n",
    "cat = Cat()\n",
    "\n",
    "dog.speak()   # Output: Dog barks\n",
    "cat.speak()   # Output: Cat meows\n"
   ]
  },
  {
   "cell_type": "markdown",
   "metadata": {},
   "source": [
    "## Single Inheritance\n",
    "- One child class inherits from one parent class."
   ]
  },
  {
   "cell_type": "code",
   "execution_count": null,
   "metadata": {},
   "outputs": [],
   "source": [
    "class Parent:\n",
    "    def show(self):\n",
    "        print(\"Parent method\")\n",
    "\n",
    "class Child(Parent):\n",
    "    def display(self):\n",
    "        print(\"Child method\")\n",
    "\n",
    "c = Child()\n",
    "c.show()    # Parent method\n",
    "c.display() # Child method\n"
   ]
  },
  {
   "cell_type": "markdown",
   "metadata": {},
   "source": [
    "## Multiple Inheritance\n",
    "- One child class inherits from multiple parent classes.\n",
    "- Python uses Method Resolution Order (MRO) to decide method lookup."
   ]
  },
  {
   "cell_type": "code",
   "execution_count": 2,
   "metadata": {},
   "outputs": [
    {
     "name": "stdout",
     "output_type": "stream",
     "text": [
      "Gardening\n",
      "Cooking\n",
      "Programming\n"
     ]
    }
   ],
   "source": [
    "class Father:\n",
    "    def skills(self):\n",
    "        print(\"Gardening\")\n",
    "\n",
    "class Mother:\n",
    "    def skills(self):\n",
    "        print(\"Cooking\")\n",
    "\n",
    "class Child(Father, Mother):\n",
    "    def skills(self):\n",
    "        Father.skills(self)\n",
    "        Mother.skills(self)\n",
    "        print(\"Programming\")\n",
    "\n",
    "c = Child()\n",
    "c.skills()\n"
   ]
  },
  {
   "cell_type": "markdown",
   "metadata": {},
   "source": [
    "### Method Resolution Order (MRO)\n",
    "- MRO determines the order in which Python looks for methods in a hierarchy of classes during method calls.\n",
    "- MRO is the sequence Python follows to search for a method.\n",
    "- MRO defines the search path for methods in inheritance.\n",
    "- Important in multiple inheritance to decide which parent method to execute when multiple parents have the same method.\n",
    "- Python uses C3 Linearization algorithm for MRO (consistent, predictable order).\n",
    "- Use ClassName.mro() or help(ClassName) to see MRO."
   ]
  },
  {
   "cell_type": "code",
   "execution_count": null,
   "metadata": {},
   "outputs": [],
   "source": [
    "class A:\n",
    "    def greet(self):\n",
    "        print(\"Hello from A\")\n",
    "\n",
    "class B(A):\n",
    "    def greet(self):\n",
    "        print(\"Hello from B\")\n",
    "\n",
    "class C(A):\n",
    "    def greet(self):\n",
    "        print(\"Hello from C\")\n",
    "\n",
    "class D(B, C):\n",
    "    pass\n",
    "\n",
    "d = D()\n",
    "d.greet()  # Which greet is called?\n",
    "print(D.mro())\n",
    "\n",
    "# Output \n",
    "# Hello from B\n",
    "# [<class '__main__.D'>, <class '__main__.B'>, <class '__main__.C'>, <class '__main__.A'>, <class 'object'>]\n",
    "\n",
    "# Explanation:\n",
    "'''\n",
    "When d.greet() is called, Python looks for greet in:\n",
    "D — not found\n",
    "B — found! So calls B.greet()\n",
    "MRO list shows search order: D → B → C → A → object\n",
    "'''\n"
   ]
  },
  {
   "cell_type": "markdown",
   "metadata": {},
   "source": [
    "### C3 Linearization algorithm for MRO\n",
    "\n",
    "What is C3 Linearization?\n",
    "- It's the algorithm Python uses to determine Method Resolution Order (MRO) in multiple inheritance.\n",
    "- Ensures a consistent, monotonic, and well-defined order to search for methods.\n",
    "- Combines parent classes' MROs and preserves the local precedence order.\n",
    "\n",
    "Why C3?\n",
    "- To avoid ambiguity in multiple inheritance.\n",
    "- To make sure subclasses come before their parents.\n",
    "- To maintain the order parents are listed in class definition.\n",
    "\n",
    "How it works (conceptually):\n",
    "- MRO of a class = [class itself] + merge(MROs of parents + list of parents)\n",
    "- Merge means:\n",
    "    - Take the first head of the lists that does not appear in the tail of any other list.\n",
    "    - Remove that head from all lists and add it to the MRO.\n",
    "    - Repeat until all lists are empty.\n",
    "    - If no head can be chosen (conflict), MRO can't be computed."
   ]
  },
  {
   "cell_type": "code",
   "execution_count": null,
   "metadata": {},
   "outputs": [],
   "source": [
    "class A: pass\n",
    "class B(A): pass\n",
    "class C(A): pass\n",
    "class D(B, C): pass\n",
    "\n",
    "print(D.mro())\n",
    "\n",
    "# Output \n",
    "# [<class '__main__.D'>, <class '__main__.B'>, <class '__main__.C'>, <class '__main__.A'>, <class 'object'>]\n",
    "\n",
    "# Explanation:\n",
    "'''\n",
    "D’s parents are B and C.\n",
    "B’s MRO: [B, A, object]\n",
    "C’s MRO: [C, A, object]\n",
    "Merge [B, A, object], [C, A, object], [B, C] → follows C3 to get linear order.\n",
    "'''"
   ]
  },
  {
   "cell_type": "markdown",
   "metadata": {},
   "source": [
    "## Multilevel Inheritance\n",
    "- Forms a hierarchy of classes.\n",
    "- A chain of inheritance: grandparent → parent → child.\n",
    "\n"
   ]
  },
  {
   "cell_type": "code",
   "execution_count": null,
   "metadata": {},
   "outputs": [],
   "source": [
    "class Grandparent:\n",
    "    def legacy(self):\n",
    "        print(\"Grandparent's legacy\")\n",
    "\n",
    "class Parent(Grandparent):\n",
    "    def skills(self):\n",
    "        print(\"Parent's skills\")\n",
    "\n",
    "class Child(Parent):\n",
    "    def hobby(self):\n",
    "        print(\"Child's hobby\")\n",
    "\n",
    "c = Child()\n",
    "c.legacy()  # From Grandparent\n",
    "c.skills()  # From Parent\n",
    "c.hobby()   # From Child\n"
   ]
  },
  {
   "cell_type": "markdown",
   "metadata": {},
   "source": [
    "##### What happens if parent and grand parent both have same methods or varibles?\n",
    "- The method/variable in the Parent class overrides the one in the Grandparent.\n",
    "- Python follows the MRO (Method Resolution Order):\n",
    "Child → Parent → Grandparent → object \n",
    "- So Python uses the first occurrence found in this order."
   ]
  },
  {
   "cell_type": "code",
   "execution_count": null,
   "metadata": {},
   "outputs": [],
   "source": [
    "class Grandparent:\n",
    "    def greet(self):\n",
    "        print(\"Hello from Grandparent\")\n",
    "\n",
    "class Parent(Grandparent):\n",
    "    def greet(self):\n",
    "        print(\"Hello from Parent\")\n",
    "\n",
    "class Child(Parent):\n",
    "    pass\n",
    "\n",
    "c = Child()\n",
    "c.greet()\n"
   ]
  },
  {
   "cell_type": "markdown",
   "metadata": {},
   "source": [
    "## Hierarchical Inheritance\n",
    "- One parent class shared by multiple children.\n",
    "- Each child can have its own methods."
   ]
  },
  {
   "cell_type": "code",
   "execution_count": null,
   "metadata": {},
   "outputs": [],
   "source": [
    "class Parent:\n",
    "    def show(self):\n",
    "        print(\"Parent method\")\n",
    "\n",
    "class Child1(Parent):\n",
    "    def feature1(self):\n",
    "        print(\"Child1 feature\")\n",
    "\n",
    "class Child2(Parent):\n",
    "    def feature2(self):\n",
    "        print(\"Child2 feature\")\n",
    "\n",
    "c1 = Child1()\n",
    "c2 = Child2()\n",
    "\n",
    "c1.show()    # Parent method\n",
    "c2.show()    # Parent method\n"
   ]
  },
  {
   "cell_type": "markdown",
   "metadata": {},
   "source": [
    "## Hybrid Inheritance\n",
    "- Combination of two or more types of inheritance.\n",
    "- Combines multiple and multilevel inheritance.\n",
    "- MRO resolves method calls."
   ]
  },
  {
   "cell_type": "code",
   "execution_count": null,
   "metadata": {},
   "outputs": [],
   "source": [
    "class A:\n",
    "    def a_method(self):\n",
    "        print(\"A method\")\n",
    "\n",
    "class B(A):\n",
    "    def b_method(self):\n",
    "        print(\"B method\")\n",
    "\n",
    "class C(A):\n",
    "    def c_method(self):\n",
    "        print(\"C method\")\n",
    "\n",
    "class D(B, C):\n",
    "    def d_method(self):\n",
    "        print(\"D method\")\n",
    "\n",
    "d = D()\n",
    "d.a_method()  # From A\n",
    "d.b_method()  # From B\n",
    "d.c_method()  # From C\n",
    "d.d_method()  # From D\n"
   ]
  },
  {
   "cell_type": "markdown",
   "metadata": {},
   "source": [
    "## super()\n",
    "- super() returns a proxy object that lets you call methods from a parent (super) class.\n",
    "- Used to access parent class methods without explicitly naming the parent.\n",
    "- Commonly used to extend or customize behavior in child classes, especially in inheritance chains."
   ]
  },
  {
   "cell_type": "code",
   "execution_count": null,
   "metadata": {},
   "outputs": [],
   "source": [
    "class Parent:\n",
    "    def greet(self):\n",
    "        print(\"Hello from Parent\")\n",
    "\n",
    "class Child(Parent):\n",
    "    def greet(self):\n",
    "        super().greet()   # Calls Parent's greet\n",
    "        print(\"Hello from Child\")\n",
    "\n",
    "c = Child()\n",
    "c.greet()\n"
   ]
  },
  {
   "cell_type": "markdown",
   "metadata": {},
   "source": [
    "### super() vs super().__init__()\n",
    "\n",
    "| Aspect     | `super()`                                                                  | `super().__init__()`                                                                   |\n",
    "| ---------- | -------------------------------------------------------------------------- | -------------------------------------------------------------------------------------- |\n",
    "| What it is | A **proxy object** referring to the parent class, used to call its methods | A **call to the parent class's `__init__` method** specifically                        |\n",
    "| Usage      | Used to call **any parent method**, not just `__init__`                    | Used to **initialize the parent class by calling its constructor**                     |\n",
    "| Example    | `super().method()` calls a parent method named `method`                    | `super().__init__()` calls the parent's constructor to initialize inherited attributes |\n",
    "| Context    | Can be used inside any method (not limited to constructors)                | Usually used inside the `__init__` method of a child class                             |\n",
    "| Purpose    | Access and invoke parent class behavior                                    | Ensure parent class is properly initialized when child object is created               |\n"
   ]
  },
  {
   "cell_type": "code",
   "execution_count": null,
   "metadata": {},
   "outputs": [],
   "source": [
    "class Parent:\n",
    "    def __init__(self):\n",
    "        print(\"Parent init\")\n",
    "\n",
    "    def greet(self):\n",
    "        print(\"Parent greet\")\n",
    "\n",
    "class Child(Parent):\n",
    "    def __init__(self):\n",
    "        super().__init__()  # Calls Parent.__init__()\n",
    "        print(\"Child init\")\n",
    "\n",
    "    def greet(self):\n",
    "        super().greet()    # Calls Parent.greet()\n",
    "        print(\"Child greet\")\n",
    "\n",
    "c = Child()\n",
    "c.greet()\n"
   ]
  },
  {
   "cell_type": "markdown",
   "metadata": {},
   "source": [
    "##### Calling super().__init__() after other code in __init__?\n",
    "\n",
    "- This might be okay or problematic depending on whether the parent's initialization is needed before child code.\n",
    "- But, If child code depends on the parent being properly initialized, calling super().__init__() late can cause bugs.\n",
    "- For example, if parent sets important attributes used by child code, calling super().__init__() late means those attributes aren't ready yet.\n",
    "- Best practice is to call super().__init__() as early as possible in the child's __init__ method."
   ]
  },
  {
   "cell_type": "code",
   "execution_count": null,
   "metadata": {},
   "outputs": [],
   "source": [
    "class Parent:\n",
    "    def __init__(self):\n",
    "        self.value = 10\n",
    "\n",
    "class Child(Parent):\n",
    "    def __init__(self):\n",
    "        print(self.value)       # ERROR: 'Child' object has no attribute 'value'\n",
    "        super().__init__()\n",
    "\n",
    "c = Child()\n"
   ]
  },
  {
   "cell_type": "markdown",
   "metadata": {},
   "source": [
    "# Descripters\n",
    "A descriptor in Python is any object that defines one or more of the methods:\n",
    "__get__(), __set__(), or __delete__().\n",
    "\n",
    "They let you control access to an attribute — similar to custom property behavior.\n",
    "\n",
    "🔹 Why Use Descriptors?\n",
    "Reuse behavior across multiple attributes\n",
    "\n",
    "Enforce validation or type checking\n",
    "\n",
    "Implement computed properties\n",
    "\n",
    "Support advanced frameworks (e.g., Django ORM, attrs)\n",
    "\n",
    "Python gives data descriptors precedence over instance dictionaries.\n",
    "(Non-data descriptors can be overridden by instance attributes.)\n",
    "\n",
    "A class is a descriptor if it defines any of the following methods:\n",
    "def __get__(self, instance, owner): ...\n",
    "def __set__(self, instance, value): ...\n",
    "def __delete__(self, instance): ...\n",
    "\n",
    "🔹 When Are Descriptors Used in Real Life?\n",
    "@property, @classmethod, @staticmethod are all implemented using descriptors!\n",
    "\n",
    "Django model fields (e.g., models.CharField)\n",
    "\n",
    "ORM mappers"
   ]
  },
  {
   "cell_type": "code",
   "execution_count": null,
   "metadata": {},
   "outputs": [],
   "source": [
    "class UpperCaseDescriptor:\n",
    "    def __get__(self, instance, owner):\n",
    "        return instance._name\n",
    "\n",
    "    def __set__(self, instance, value):\n",
    "        instance._name = value.upper()\n",
    "\n",
    "    def __delete__(self, instance):\n",
    "        print(\"Deleting name...\")\n",
    "        del instance._name\n",
    "\n",
    "class Person:\n",
    "    name = UpperCaseDescriptor()  # Descriptor is a class attribute\n",
    "\n",
    "    def __init__(self, name):\n",
    "        self.name = name\n",
    "\n",
    "# Usage\n",
    "p = Person(\"alice\")\n",
    "print(p.name)      # Outputs: ALICE\n",
    "\n",
    "p.name = \"bob\"\n",
    "print(p.name)      # Outputs: BOB\n",
    "\n",
    "del p.name         # Triggers __delete__\n"
   ]
  },
  {
   "cell_type": "markdown",
   "metadata": {},
   "source": [
    "# Meta Classes\n",
    "\n",
    "A metaclass is a class of a class.\n",
    "\n",
    "Just like classes create instances, metaclasses create classes.\n",
    "\n",
    "Default metaclass in Python is type.\n",
    "\n",
    "🔹 Use Cases in Real World\n",
    "Django ORM: uses metaclasses to register models.\n",
    "\n",
    "abc.ABCMeta: used for defining abstract base classes.\n",
    "\n",
    "enum.EnumMeta: used for enums.\n",
    "\n",
    "\n",
    "🔹 Difference Between Class and Metaclass\n",
    "| Level     | Creates                      |\n",
    "| --------- | ---------------------------- |\n",
    "| Instance  | From class                   |\n",
    "| Class     | From metaclass               |\n",
    "| Metaclass | Usually inherits from `type` |\n"
   ]
  },
  {
   "cell_type": "code",
   "execution_count": null,
   "metadata": {},
   "outputs": [],
   "source": [
    "class AutoAttrMeta(type):\n",
    "    def __new__(cls, name, bases, dct):\n",
    "        dct['auto_attr'] = '👋 Metaclass added me!'\n",
    "        return super().__new__(cls, name, bases, dct)\n",
    "\n",
    "class Demo(metaclass=AutoAttrMeta):\n",
    "    def show(self):\n",
    "        print(self.auto_attr)\n",
    "\n",
    "obj = Demo()\n",
    "obj.show()  # Output: 👋 Metaclass added me!\n"
   ]
  },
  {
   "cell_type": "markdown",
   "metadata": {},
   "source": [
    "# Magic Methods (Dunder Methods) \n",
    "- Magic methods (aka dunder methods, short for \"double underscore\") are special methods that begin and end with __.\n",
    "- Python uses them to define behavior for operators, built-in functions, and syntax."
   ]
  },
  {
   "cell_type": "code",
   "execution_count": null,
   "metadata": {},
   "outputs": [],
   "source": [
    "# 🔹 1️⃣ Object Creation & Initialization\n",
    "class Person:\n",
    "    def __init__(self, name):\n",
    "        self.name = name\n",
    "\n",
    "# 🔹 2️⃣ String Representation\n",
    "    def __str__(self):\n",
    "        return f\"My name is {self.name}\"\n",
    "\n",
    "    def __repr__(self):\n",
    "        return f\"Person('{self.name}')\"\n",
    "\n",
    "# 🔹 3️⃣ Operator Overloading\n",
    "    def __eq__(self, other):\n",
    "        return self.name == other.name\n",
    "\n",
    "# 🔹 4️⃣ Attribute Access\n",
    "    def __getattr__(self, attr):\n",
    "        return f\"No attribute named {attr}\"\n",
    "\n",
    "    def __setattr__(self, name, value):\n",
    "        print(f\"Setting {name} = {value}\")\n",
    "        super().__setattr__(name, value)\n",
    "\n",
    "    def __delattr__(self, name):\n",
    "        print(f\"Deleting attribute {name}\")\n",
    "        super().__delattr__(name)\n",
    "\n",
    "# 🔹 5️⃣ Length, Containment, Iteration\n",
    "class MyList:\n",
    "    def __init__(self, data):\n",
    "        self.data = data\n",
    "\n",
    "    def __len__(self):\n",
    "        return len(self.data)\n",
    "\n",
    "    def __contains__(self, item):\n",
    "        return item in self.data\n",
    "\n",
    "    def __iter__(self):\n",
    "        return iter(self.data)\n",
    "\n",
    "# 🔹 6️⃣ Operator Overloading with Point\n",
    "class Point:\n",
    "    def __init__(self, x, y):\n",
    "        self.x = x\n",
    "        self.y = y\n",
    "\n",
    "    def __add__(self, other):\n",
    "        return Point(self.x + other.x, self.y + other.y)\n",
    "\n",
    "    def __repr__(self):\n",
    "        return f\"Point({self.x}, {self.y})\"\n",
    "\n",
    "# 🔹 7️⃣ Context Manager\n",
    "class OpenFile:\n",
    "    def __enter__(self):\n",
    "        print(\"Entering context (open file)\")\n",
    "        return self\n",
    "\n",
    "    def __exit__(self, exc_type, exc_val, exc_tb):\n",
    "        print(\"Exiting context (close file)\")\n",
    "\n",
    "# ✅ Usage Examples\n",
    "\n",
    "# Person class magic methods\n",
    "p1 = Person(\"Alice\")\n",
    "print(str(p1))         # My name is Alice\n",
    "print(repr(p1))        # Person('Alice')\n",
    "p2 = Person(\"Alice\")\n",
    "print(p1 == p2)        # True\n",
    "print(p1.age)          # No attribute named age\n",
    "del p1.name            # Triggers __delattr__\n",
    "\n",
    "# MyList class\n",
    "mylist = MyList([1, 2, 3])\n",
    "print(len(mylist))     # 3\n",
    "print(2 in mylist)     # True\n",
    "for item in mylist:    # Iteration\n",
    "    print(item)\n",
    "\n",
    "# Point class operator overloading\n",
    "a = Point(1, 2)\n",
    "b = Point(3, 4)\n",
    "print(a + b)           # Point(4, 6)\n",
    "\n",
    "# Context manager\n",
    "with OpenFile() as f:\n",
    "    print(\"Doing something inside 'with'\")\n"
   ]
  }
 ],
 "metadata": {
  "kernelspec": {
   "display_name": "base",
   "language": "python",
   "name": "python3"
  },
  "language_info": {
   "codemirror_mode": {
    "name": "ipython",
    "version": 3
   },
   "file_extension": ".py",
   "mimetype": "text/x-python",
   "name": "python",
   "nbconvert_exporter": "python",
   "pygments_lexer": "ipython3",
   "version": "3.12.7"
  }
 },
 "nbformat": 4,
 "nbformat_minor": 2
}
